{
 "cells": [
  {
   "cell_type": "code",
   "execution_count": 34,
   "metadata": {},
   "outputs": [
    {
     "name": "stdout",
     "output_type": "stream",
     "text": [
      "\n",
      "2**\n",
      "2*4\n",
      "12*\n"
     ]
    }
   ],
   "source": [
    "row, col = map(int, input().split())        # row: 세로, col: 가로\n",
    "matrix = []\n",
    "for i in range(row):\n",
    "    matrix.append(list(input()))\n",
    "print()\n",
    "for i in range(row):\n",
    "    for j in range(col):\n",
    "        cnt = 0\n",
    "        if matrix[i][j] == \".\":\n",
    "            for y in range(i-1, i+2):\n",
    "                for x in range(j-1, j+2):\n",
    "                    if not (y < 0 or x < 0 or y >= row or x >= col):\n",
    "                        if matrix[y][x] == \"*\":\n",
    "                            cnt += 1\n",
    "            matrix[i][j] = cnt\n",
    "            print(matrix[i][j], end=\"\")\n",
    "        else:\n",
    "            print(matrix[i][j], end=\"\")\n",
    "    print()"
   ]
  },
  {
   "cell_type": "code",
   "execution_count": null,
   "metadata": {},
   "outputs": [],
   "source": []
  }
 ],
 "metadata": {
  "interpreter": {
   "hash": "aee8b7b246df8f9039afb4144a1f6fd8d2ca17a180786b69acc140d282b71a49"
  },
  "kernelspec": {
   "display_name": "Python 3.10.1 64-bit",
   "language": "python",
   "name": "python3"
  },
  "language_info": {
   "codemirror_mode": {
    "name": "ipython",
    "version": 3
   },
   "file_extension": ".py",
   "mimetype": "text/x-python",
   "name": "python",
   "nbconvert_exporter": "python",
   "pygments_lexer": "ipython3",
   "version": "3.10.1"
  },
  "orig_nbformat": 4
 },
 "nbformat": 4,
 "nbformat_minor": 2
}
