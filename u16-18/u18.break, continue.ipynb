{
 "cells": [
  {
   "cell_type": "markdown",
   "metadata": {},
   "source": [
    "# Unit 18. Break"
   ]
  },
  {
   "cell_type": "code",
   "execution_count": null,
   "metadata": {},
   "outputs": [],
   "source": [
    "# 루프를 완전히 중단할 때 \n",
    "i = 0 \n",
    "while True:     # 무한 루프\n",
    "    print(i)\n",
    "    i += 1   # i를 1 씩 증가시켜\n",
    "    if i == 3:   # i가 3일 때\n",
    "        break    # 반복문을 끝냄. while의 제어 흐름을 벗어남"
   ]
  },
  {
   "cell_type": "markdown",
   "metadata": {},
   "source": [
    "## Continue"
   ]
  },
  {
   "cell_type": "code",
   "execution_count": 6,
   "metadata": {},
   "outputs": [
    {
     "name": "stdout",
     "output_type": "stream",
     "text": [
      "1\n"
     ]
    }
   ],
   "source": [
    "# 일부 코드를 실행하지 않고 건너뜀\n",
    "for i in range(3):\n",
    "    if i % 2 == 0:\n",
    "        continue    # i가 짝수이면, continue로 건너뜀\n",
    "    print(i)"
   ]
  },
  {
   "cell_type": "markdown",
   "metadata": {},
   "source": [
    "## Pass"
   ]
  },
  {
   "cell_type": "code",
   "execution_count": 5,
   "metadata": {},
   "outputs": [],
   "source": [
    "# for 과 while의 반복할 코드에서 아무 일도 하지 않지만, 반복문의 형태를 유지\n",
    "for i in range(10):\n",
    "    pass"
   ]
  },
  {
   "cell_type": "code",
   "execution_count": 9,
   "metadata": {},
   "outputs": [
    {
     "name": "stdout",
     "output_type": "stream",
     "text": [
      "0\n",
      "1\n"
     ]
    }
   ],
   "source": [
    "# 입력한 횟수대로 반복하기\n",
    "\n",
    "count = int(input('반복할 횟수를 입력하세요: '))\n",
    "\n",
    "i = 0\n",
    "while True:     # 무한루프\n",
    "    print(i)\n",
    "    i += 1\n",
    "    if i == count:   # i가 입력받은 값과 같을 때\n",
    "        break       # 반복문을 끝냄"
   ]
  },
  {
   "cell_type": "code",
   "execution_count": 10,
   "metadata": {},
   "outputs": [
    {
     "name": "stdout",
     "output_type": "stream",
     "text": [
      "1\n",
      "3\n",
      "5\n"
     ]
    }
   ],
   "source": [
    "# 입력한 숫자까지 홀수 출력하기\n",
    "count = int(input('반복할 횟수를 입력하세요: '))\n",
    "\n",
    "for i in range(count + 1):  # 0부터 증가하며 count 까지 반복\n",
    "    if i % 2 == 0:  # i 를 2로 나누었을 때 나머지가 0이면\n",
    "        continue    # 아래 코드를 실행하지 않고 건너 뜀\n",
    "    print (i)"
   ]
  },
  {
   "cell_type": "code",
   "execution_count": null,
   "metadata": {},
   "outputs": [],
   "source": []
  }
 ],
 "metadata": {
  "interpreter": {
   "hash": "31f2aee4e71d21fbe5cf8b01ff0e069b9275f58929596ceb00d14d90e3e16cd6"
  },
  "kernelspec": {
   "display_name": "Python 3.8.9 64-bit",
   "language": "python",
   "name": "python3"
  },
  "language_info": {
   "name": "python",
   "version": "3.8.9"
  },
  "orig_nbformat": 4
 },
 "nbformat": 4,
 "nbformat_minor": 2
}
