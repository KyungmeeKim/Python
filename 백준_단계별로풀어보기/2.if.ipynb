{
 "cells": [
  {
   "cell_type": "code",
   "execution_count": 2,
   "metadata": {},
   "outputs": [
    {
     "name": "stdout",
     "output_type": "stream",
     "text": [
      " < \n"
     ]
    }
   ],
   "source": [
    "# 1330\n",
    "\n",
    "A, B = map(int, input().split())\n",
    "if A > B :\n",
    "    print (' > ')\n",
    "elif A < B :\n",
    "    print (' < ')\n",
    "else :\n",
    "    print(' == ')"
   ]
  },
  {
   "cell_type": "code",
   "execution_count": 3,
   "metadata": {},
   "outputs": [
    {
     "name": "stdout",
     "output_type": "stream",
     "text": [
      "A\n"
     ]
    }
   ],
   "source": [
    "# 9498\n",
    "\n",
    "grade = int(input())\n",
    "if 90 <= grade <= 100:\n",
    "    print('A')\n",
    "elif 80 <= grade <= 89:\n",
    "    print('B')\n",
    "elif 70 <= grade <= 79:\n",
    "    print('C')\n",
    "elif 60 <= grade <= 69:\n",
    "    print('D')\n",
    "else:\n",
    "    print('F')"
   ]
  },
  {
   "cell_type": "code",
   "execution_count": 4,
   "metadata": {},
   "outputs": [
    {
     "name": "stdout",
     "output_type": "stream",
     "text": [
      "0\n"
     ]
    }
   ],
   "source": [
    "# 2753\n",
    "\n",
    "year = int(input())     # 연도 정수 입력 \n",
    "\n",
    "if year % 4 == 0 and year % 100 != 0 or year % 400 == 0:        # 4의 배수 and 100의 배수가 아님 or 400의 배수\n",
    "    print('1')\n",
    "else:\n",
    "    print('0')"
   ]
  },
  {
   "cell_type": "code",
   "execution_count": 6,
   "metadata": {},
   "outputs": [
    {
     "name": "stdout",
     "output_type": "stream",
     "text": [
      "1\n"
     ]
    }
   ],
   "source": [
    "# 14681\n",
    "\n",
    "x = int(input())\n",
    "y = int(input())\n",
    "\n",
    "if x > 0 and y > 0:\n",
    "    print('1')\n",
    "elif x < 0 and y > 0:\n",
    "    print('2')\n",
    "elif x < 0 and y < 0:\n",
    "    print('3')\n",
    "elif x > 0 and y < 0:\n",
    "    print('4')"
   ]
  },
  {
   "cell_type": "code",
   "execution_count": 7,
   "metadata": {},
   "outputs": [
    {
     "name": "stdout",
     "output_type": "stream",
     "text": [
      "3 30\n"
     ]
    }
   ],
   "source": [
    "# 2884\n",
    "H, M = map(int, input().split())\n",
    "\n",
    "if M >= 45:\n",
    "    print (H, M-45)\n",
    "elif H >= 1 and M < 45:\n",
    "    print(H - 1, M + 60 - 45)\n",
    "elif H <= 0 and M < 45:\n",
    "    print('23' , M + 60 - 45)"
   ]
  },
  {
   "cell_type": "code",
   "execution_count": null,
   "metadata": {},
   "outputs": [],
   "source": []
  }
 ],
 "metadata": {
  "interpreter": {
   "hash": "aee8b7b246df8f9039afb4144a1f6fd8d2ca17a180786b69acc140d282b71a49"
  },
  "kernelspec": {
   "display_name": "Python 3.10.1 64-bit",
   "language": "python",
   "name": "python3"
  },
  "language_info": {
   "codemirror_mode": {
    "name": "ipython",
    "version": 3
   },
   "file_extension": ".py",
   "mimetype": "text/x-python",
   "name": "python",
   "nbconvert_exporter": "python",
   "pygments_lexer": "ipython3",
   "version": "3.10.1"
  },
  "orig_nbformat": 4
 },
 "nbformat": 4,
 "nbformat_minor": 2
}
