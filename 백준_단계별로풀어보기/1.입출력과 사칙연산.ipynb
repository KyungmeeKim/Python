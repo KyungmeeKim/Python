{
 "cells": [
  {
   "cell_type": "code",
   "execution_count": 13,
   "metadata": {},
   "outputs": [
    {
     "name": "stdout",
     "output_type": "stream",
     "text": [
      "\\    /\\\n",
      " )  ( ')\n",
      "(  /  ) \n",
      " \\(__)| \n"
     ]
    }
   ],
   "source": [
    "# 10171\n",
    "\n",
    "print(\"\\    /\\\\\")\n",
    "print(\" )  ( ')\")\n",
    "print(\"(  /  ) \")\n",
    "print(\" \\(__)| \")"
   ]
  },
  {
   "cell_type": "code",
   "execution_count": 15,
   "metadata": {},
   "outputs": [
    {
     "name": "stdout",
     "output_type": "stream",
     "text": [
      "|\\_/|\n",
      "|q p|   /}\n",
      "( 0 )\"\"\"\\\n",
      "|\"^\"`    |\n",
      "||_/=\\\\__|\n"
     ]
    }
   ],
   "source": [
    "# 10172\n",
    "\n",
    "print (\"|\\_/|\")\n",
    "print (\"|q p|   /}\")\n",
    "print ('( 0 )\"\"\"\\\\')\n",
    "print ('|\"^\"`    |')\n",
    "print (\"||_/=\\\\\\__|\")"
   ]
  },
  {
   "cell_type": "code",
   "execution_count": 1,
   "metadata": {},
   "outputs": [
    {
     "name": "stdout",
     "output_type": "stream",
     "text": [
      "1\n",
      "1\n",
      "0\n",
      "0\n"
     ]
    }
   ],
   "source": [
    "# 10430\n",
    "\n",
    "A, B, C = map(int, input().split())\n",
    "print((A+B)%C,((A%C) + (B%C))%C, (A*B)%C,((A%C) * (B%C))%C, sep = '\\n')"
   ]
  },
  {
   "cell_type": "code",
   "execution_count": 4,
   "metadata": {},
   "outputs": [
    {
     "name": "stdout",
     "output_type": "stream",
     "text": [
      "2360\n",
      "3776\n",
      "1416\n",
      "181720\n"
     ]
    }
   ],
   "source": [
    "# 2588\n",
    "\n",
    "num1 = int(input())\n",
    "num2 = input()\n",
    "\n",
    "a1 = num1 * int(num2[2])\n",
    "a2 = num1 * int(num2[1])\n",
    "a3 = num1 * int(num2[0])\n",
    "a4 = num1 * int(num2)\n",
    "\n",
    "print(a1, a2, a3, a4, sep='\\n')"
   ]
  }
 ],
 "metadata": {
  "interpreter": {
   "hash": "31f2aee4e71d21fbe5cf8b01ff0e069b9275f58929596ceb00d14d90e3e16cd6"
  },
  "kernelspec": {
   "display_name": "Python 3.8.9 64-bit",
   "language": "python",
   "name": "python3"
  },
  "language_info": {
   "codemirror_mode": {
    "name": "ipython",
    "version": 3
   },
   "file_extension": ".py",
   "mimetype": "text/x-python",
   "name": "python",
   "nbconvert_exporter": "python",
   "pygments_lexer": "ipython3",
   "version": "3.8.9"
  },
  "orig_nbformat": 4
 },
 "nbformat": 4,
 "nbformat_minor": 2
}
