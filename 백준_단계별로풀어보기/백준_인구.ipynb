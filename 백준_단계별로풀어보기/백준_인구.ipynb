{
 "cells": [
  {
   "cell_type": "code",
   "execution_count": 2,
   "metadata": {},
   "outputs": [
    {
     "name": "stdout",
     "output_type": "stream",
     "text": [
      "[[0, 0, 0], [0, 5, 0], [0, 0, 0], [0, 0, 0]]\n"
     ]
    }
   ],
   "source": [
    "n = 4\n",
    "m = 3\n",
    "\n",
    "array = [[0] * m for _ in range(n)]\n",
    "array[1][1] = 5     # 1,1 인덱스의 값을 변화\n",
    "print(array)"
   ]
  },
  {
   "cell_type": "code",
   "execution_count": 5,
   "metadata": {},
   "outputs": [
    {
     "data": {
      "text/plain": [
       "'@@@@100,000,000.0000'"
      ]
     },
     "execution_count": 5,
     "metadata": {},
     "output_type": "execute_result"
    }
   ],
   "source": [
    "format(100000000,',')       # 원을 표시할 때"
   ]
  },
  {
   "cell_type": "code",
   "execution_count": null,
   "metadata": {},
   "outputs": [],
   "source": [
    "format(100000000,'@>020,.4f')   # f앞, >앞의 문자를 f앞 int번 반복"
   ]
  },
  {
   "cell_type": "code",
   "execution_count": 6,
   "metadata": {},
   "outputs": [
    {
     "data": {
      "text/plain": [
       "'1.000000e+08'"
      ]
     },
     "execution_count": 6,
     "metadata": {},
     "output_type": "execute_result"
    }
   ],
   "source": [
    "format(100000000,'e')       #10의 제곱으로 표현"
   ]
  },
  {
   "cell_type": "code",
   "execution_count": 8,
   "metadata": {},
   "outputs": [
    {
     "data": {
      "text/plain": [
       "[2, 4, 6, 8, 10, 12, 14, 16, 18]"
      ]
     },
     "execution_count": 8,
     "metadata": {},
     "output_type": "execute_result"
    }
   ],
   "source": [
    "def hojun(value):\n",
    "    if value % 2 == 0:\n",
    "        return value\n",
    "    else:\n",
    "        return None\n",
    "\n",
    "list(filter(hojun,range(20)))"
   ]
  },
  {
   "cell_type": "code",
   "execution_count": 37,
   "metadata": {},
   "outputs": [
    {
     "ename": "SyntaxError",
     "evalue": "invalid syntax (1429924906.py, line 9)",
     "output_type": "error",
     "traceback": [
      "\u001b[0;36m  File \u001b[0;32m\"/var/folders/m4/3mtzsd2s0zz61hw4qbz_4gjm0000gn/T/ipykernel_6171/1429924906.py\"\u001b[0;36m, line \u001b[0;32m9\u001b[0m\n\u001b[0;31m    def summary:\u001b[0m\n\u001b[0m               ^\u001b[0m\n\u001b[0;31mSyntaxError\u001b[0m\u001b[0;31m:\u001b[0m invalid syntax\n"
     ]
    }
   ],
   "source": [
    "n = 5 # 데이터의 개수 N\n",
    "m = 5 # 찾고자 하는 부분합 M\n",
    "data = [1, 2, 3, 2, 5] # 전체 수열\n",
    "\n",
    "count = 0\n",
    "summary = 0\n",
    "end = 0\n",
    "    \n",
    "# start를 차례대로 증가시키며 반복\n",
    "for start in range(n):\n",
    "    # end 를 가능한 만큼 이동시키기\n",
    "    while summary < m and end < n:\n",
    "        summary += data[end]\n",
    "        end += 1\n",
    "    # 부분합이 m일 때 카운트 증가\n",
    "    if summary == m:\n",
    "        count += 1\n",
    "    summary -= data[start]\n",
    "    \n",
    "print(count) # 3"
   ]
  },
  {
   "cell_type": "code",
   "execution_count": 31,
   "metadata": {},
   "outputs": [
    {
     "name": "stdout",
     "output_type": "stream",
     "text": [
      "70\n"
     ]
    }
   ],
   "source": [
    "# 구간 합\n",
    "# 데이터 개수 n과 데이터 입력 받기\n",
    "n = 5\n",
    "data = [10, 20, 30, 40, 50]\n",
    "\n",
    "#Prefix Sum 배열 계산\n",
    "summary = 0\n",
    "prefix_sum = [0]\n",
    "for i in data:\n",
    "    summary += i\n",
    "    prefix_sum.append(summary)\n",
    "\n",
    "# 구간 합 계산\n",
    "left = 3\n",
    "right = 4\n",
    "print(prefix_sum[right] - prefix_sum[left - 1])\n"
   ]
  },
  {
   "cell_type": "code",
   "execution_count": 32,
   "metadata": {},
   "outputs": [
    {
     "name": "stdout",
     "output_type": "stream",
     "text": [
      "70\n"
     ]
    }
   ],
   "source": [
    "n = 5 # 데이터 개수\n",
    "data = [10, 20, 30, 40, 50]\n",
    "\n",
    "summary = 0\n",
    "prefix_sum = [0]\n",
    "for i in data:\n",
    "    summary += i \n",
    "    prefix_sum.append(summary)\n",
    "\n",
    "left = 3\n",
    "right = 4\n",
    "print(prefix_sum[right] - prefix_sum[left - 1])"
   ]
  },
  {
   "cell_type": "code",
   "execution_count": 39,
   "metadata": {},
   "outputs": [
    {
     "name": "stdout",
     "output_type": "stream",
     "text": [
      "Hello, world\n"
     ]
    }
   ],
   "source": [
    "def func1():\n",
    "    print('Hello, world')\n",
    "\n",
    "func1()     # 함수 호출"
   ]
  },
  {
   "cell_type": "code",
   "execution_count": 40,
   "metadata": {},
   "outputs": [
    {
     "name": "stdout",
     "output_type": "stream",
     "text": [
      "1 곱하기 2 = 2\n"
     ]
    }
   ],
   "source": [
    "def func2(a,b):\n",
    "    print(f'{a} 곱하기 {b} = { a * b }')\n",
    "\n",
    "func2(1,2)"
   ]
  },
  {
   "cell_type": "code",
   "execution_count": 41,
   "metadata": {},
   "outputs": [
    {
     "name": "stdout",
     "output_type": "stream",
     "text": [
      "abcdefGG\n"
     ]
    }
   ],
   "source": [
    "# 반환값이 있는 함수. 함수 내부에서 어떤 로직이 돌아서 그 결과값을 함수 밖으로 내보내줌\n",
    "def func3():\n",
    "    return \"abcdef\"\n",
    "\n",
    "a = func3()\n",
    "print(a + \"GG\")"
   ]
  },
  {
   "cell_type": "code",
   "execution_count": 42,
   "metadata": {},
   "outputs": [
    {
     "name": "stdout",
     "output_type": "stream",
     "text": [
      "27\n"
     ]
    }
   ],
   "source": [
    "# 입력과 반환이 모두 있는 함수\n",
    "def func4(a, b):\n",
    "    return a * b\n",
    "\n",
    "c = func4(3,9)\n",
    "print(c)"
   ]
  },
  {
   "cell_type": "code",
   "execution_count": 47,
   "metadata": {},
   "outputs": [
    {
     "name": "stdout",
     "output_type": "stream",
     "text": [
      "2 * 1 = 2\n",
      "2 * 2 = 4\n",
      "2 * 3 = 6\n",
      "2 * 4 = 8\n",
      "2 * 5 = 10\n",
      "2 * 6 = 12\n",
      "2 * 7 = 14\n",
      "2 * 8 = 16\n",
      "2 * 9 = 18\n"
     ]
    }
   ],
   "source": [
    "def gugudan(int):\n",
    "    for i in range(1, 10):\n",
    "        print(f'{int} * {i} = {int*i}')\n",
    "\n",
    "gugudan(2)"
   ]
  },
  {
   "cell_type": "code",
   "execution_count": null,
   "metadata": {},
   "outputs": [],
   "source": []
  }
 ],
 "metadata": {
  "interpreter": {
   "hash": "31f2aee4e71d21fbe5cf8b01ff0e069b9275f58929596ceb00d14d90e3e16cd6"
  },
  "kernelspec": {
   "display_name": "Python 3.8.9 64-bit",
   "language": "python",
   "name": "python3"
  },
  "language_info": {
   "codemirror_mode": {
    "name": "ipython",
    "version": 3
   },
   "file_extension": ".py",
   "mimetype": "text/x-python",
   "name": "python",
   "nbconvert_exporter": "python",
   "pygments_lexer": "ipython3",
   "version": "3.8.9"
  },
  "orig_nbformat": 4
 },
 "nbformat": 4,
 "nbformat_minor": 2
}
