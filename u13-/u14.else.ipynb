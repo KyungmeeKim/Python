{
 "cells": [
  {
   "cell_type": "markdown",
   "metadata": {},
   "source": [
    "# Unit.14 Else"
   ]
  },
  {
   "cell_type": "code",
   "execution_count": 1,
   "metadata": {},
   "outputs": [
    {
     "name": "stdout",
     "output_type": "stream",
     "text": [
      "10 이하\n"
     ]
    }
   ],
   "source": [
    "x = 5\n",
    "if x > 10:\n",
    "    print('10 초과')\n",
    "else:\n",
    "    print('10 이하')"
   ]
  },
  {
   "cell_type": "code",
   "execution_count": null,
   "metadata": {},
   "outputs": [],
   "source": [
    "if x > 15:\n",
    "    pass # to-do soon!, 지금 당장은 결정하지 못했지만 이후에 코드 작성할 때 에러 안날 수 있도록 해줌"
   ]
  },
  {
   "cell_type": "code",
   "execution_count": 7,
   "metadata": {},
   "outputs": [
    {
     "name": "stdout",
     "output_type": "stream",
     "text": [
      "90는 짝수입니다.\n"
     ]
    }
   ],
   "source": [
    "import random\n",
    "x = random.randint(1,100)\n",
    "if x % 2 == 0:\n",
    "    print(f'{x}는 짝수입니다.')\n",
    "else:\n",
    "    print(f'{x}는 홀수입니다.')"
   ]
  },
  {
   "cell_type": "code",
   "execution_count": 8,
   "metadata": {},
   "outputs": [
    {
     "name": "stdout",
     "output_type": "stream",
     "text": [
      "20는 짝수입니다.\n"
     ]
    }
   ],
   "source": [
    "x = random.randint(1,100)\n",
    "if x % 2 == 0:\n",
    "    result = '짝수'\n",
    "else:\n",
    "    result = '홀수'\n",
    "print(f'{x}는 {result}입니다.')"
   ]
  },
  {
   "cell_type": "markdown",
   "metadata": {},
   "source": [
    "#### 3항 연산자"
   ]
  },
  {
   "cell_type": "code",
   "execution_count": 11,
   "metadata": {},
   "outputs": [
    {
     "name": "stdout",
     "output_type": "stream",
     "text": [
      "33는 홀수입니다.\n"
     ]
    }
   ],
   "source": [
    "x = random.randint(1,100)\n",
    "result = '짝수' if x % 2 == 0 else '홀수'\n",
    "print(f'{x}는 {result}입니다.')"
   ]
  }
 ],
 "metadata": {
  "interpreter": {
   "hash": "e58abd733f8948880f953c9706d1a44af0cd549fe01338fbec1a88f5685c9a8f"
  },
  "kernelspec": {
   "display_name": "Python 3.8.8 64-bit ('base': conda)",
   "language": "python",
   "name": "python3"
  },
  "language_info": {
   "codemirror_mode": {
    "name": "ipython",
    "version": 3
   },
   "file_extension": ".py",
   "mimetype": "text/x-python",
   "name": "python",
   "nbconvert_exporter": "python",
   "pygments_lexer": "ipython3",
   "version": "3.8.8"
  },
  "orig_nbformat": 4
 },
 "nbformat": 4,
 "nbformat_minor": 2
}
