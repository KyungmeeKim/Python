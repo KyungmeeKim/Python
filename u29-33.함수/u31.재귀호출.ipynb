{
 "cells": [
  {
   "cell_type": "markdown",
   "metadata": {},
   "source": [
    "# Unit 31. 재귀호출"
   ]
  },
  {
   "cell_type": "code",
   "execution_count": 4,
   "metadata": {},
   "outputs": [],
   "source": [
    "# recursive call(재귀호출) : 함수 안에서 함수 자기 자신을 다시 호출하는 방식\n",
    "# maximum recursion depth(최대 재귀 깊이) : 1,000 으로 정해져 있음. 최대 재귀 깊이를 초과하면 에러 발생\n",
    "\n",
    "def hello():\n",
    "    print('Hello, wordl!')\n",
    "    hello()"
   ]
  },
  {
   "cell_type": "code",
   "execution_count": 5,
   "metadata": {},
   "outputs": [
    {
     "name": "stdout",
     "output_type": "stream",
     "text": [
      "Hello, world! 5\n",
      "Hello, world! 4\n",
      "Hello, world! 3\n",
      "Hello, world! 2\n",
      "Hello, world! 1\n"
     ]
    }
   ],
   "source": [
    "# 재귀 호출에 종료 조건 만들기\n",
    "\n",
    "def hello(count):\n",
    "    if count == 0:  # 종료 조건을 만듦. count 가 0이면, hello 함수를 호출하지 않고 끝냄\n",
    "        return\n",
    "\n",
    "    print('Hello, world!', count)\n",
    "\n",
    "    count -= 1      # count를 1 감소시킨 뒤\n",
    "    hello(count)    # 다시 hello 함수에 넣음\n",
    "\n",
    "hello(5)"
   ]
  },
  {
   "cell_type": "markdown",
   "metadata": {},
   "source": [
    "### 재귀 호출로 팩토리얼 구하기"
   ]
  },
  {
   "cell_type": "code",
   "execution_count": 6,
   "metadata": {},
   "outputs": [
    {
     "name": "stdout",
     "output_type": "stream",
     "text": [
      "120\n"
     ]
    }
   ],
   "source": [
    "def factorial(n):\n",
    "    if n == 1:      # n이 1일 때\n",
    "        return 1    # 1을 반환하고 재귀 호출을 끝냄\n",
    "\n",
    "    return n * factorial(n - 1)     #   n과 factorial 함수에 n -1 을 넣어서 반환된 값을 곱함\n",
    "\n",
    "print(factorial(5))"
   ]
  }
 ],
 "metadata": {
  "interpreter": {
   "hash": "aee8b7b246df8f9039afb4144a1f6fd8d2ca17a180786b69acc140d282b71a49"
  },
  "kernelspec": {
   "display_name": "Python 3.10.1 64-bit",
   "language": "python",
   "name": "python3"
  },
  "language_info": {
   "codemirror_mode": {
    "name": "ipython",
    "version": 3
   },
   "file_extension": ".py",
   "mimetype": "text/x-python",
   "name": "python",
   "nbconvert_exporter": "python",
   "pygments_lexer": "ipython3",
   "version": "3.10.1"
  },
  "orig_nbformat": 4
 },
 "nbformat": 4,
 "nbformat_minor": 2
}
