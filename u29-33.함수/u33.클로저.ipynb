{
 "cells": [
  {
   "cell_type": "markdown",
   "metadata": {},
   "source": [
    "# Unit 33. 클로저"
   ]
  },
  {
   "cell_type": "markdown",
   "metadata": {},
   "source": [
    "### 변수"
   ]
  },
  {
   "cell_type": "code",
   "execution_count": 2,
   "metadata": {},
   "outputs": [
    {
     "name": "stdout",
     "output_type": "stream",
     "text": [
      "10\n",
      "10\n"
     ]
    }
   ],
   "source": [
    "# global variable (전역 변수) : 스크립트 전체에서 접근할 수 있는 변수\n",
    "# global scope (전역 범위) : 전역 변수에 접근할 수 있는 범위\n",
    "\n",
    "x = 10          # 전역 변수\n",
    "def foo():\n",
    "    print(x)    # 전역 변수 출력\n",
    "\n",
    "foo()\n",
    "print(x)        # 전역 변수 출력"
   ]
  },
  {
   "cell_type": "code",
   "execution_count": 4,
   "metadata": {},
   "outputs": [
    {
     "name": "stdout",
     "output_type": "stream",
     "text": [
      "10\n"
     ]
    },
    {
     "ename": "NameError",
     "evalue": "name 'y' is not defined",
     "output_type": "error",
     "traceback": [
      "\u001b[0;31m---------------------------------------------------------------------------\u001b[0m",
      "\u001b[0;31mNameError\u001b[0m                                 Traceback (most recent call last)",
      "\u001b[0;32m/var/folders/m4/3mtzsd2s0zz61hw4qbz_4gjm0000gn/T/ipykernel_7507/740447237.py\u001b[0m in \u001b[0;36m<module>\u001b[0;34m\u001b[0m\n\u001b[1;32m      7\u001b[0m \u001b[0;34m\u001b[0m\u001b[0m\n\u001b[1;32m      8\u001b[0m \u001b[0mfoo\u001b[0m\u001b[0;34m(\u001b[0m\u001b[0;34m)\u001b[0m\u001b[0;34m\u001b[0m\u001b[0;34m\u001b[0m\u001b[0m\n\u001b[0;32m----> 9\u001b[0;31m \u001b[0mprint\u001b[0m\u001b[0;34m(\u001b[0m\u001b[0my\u001b[0m\u001b[0;34m)\u001b[0m        \u001b[0;31m# 에러. foo의 지역 변수는 출력할 수 없음\u001b[0m\u001b[0;34m\u001b[0m\u001b[0;34m\u001b[0m\u001b[0m\n\u001b[0m",
      "\u001b[0;31mNameError\u001b[0m: name 'y' is not defined"
     ]
    }
   ],
   "source": [
    "# local variable(지역 변수) : 변수를 만든 함수 안에서만 접근 할 수 있는 변수\n",
    "# local scope(지역 범위) : 지역 변수를 접근할 수 있는 범위\n",
    "\n",
    "def foo():\n",
    "    y = 10      # foo의 지역 변수\n",
    "    print(y)    # 지역변수 출력\n",
    "\n",
    "foo()\n",
    "print(y)        # 에러. foo의 지역 변수는 출력할 수 없음"
   ]
  },
  {
   "cell_type": "code",
   "execution_count": 5,
   "metadata": {},
   "outputs": [
    {
     "name": "stdout",
     "output_type": "stream",
     "text": [
      "20\n",
      "10\n"
     ]
    }
   ],
   "source": [
    "# 함수 안에서 전역 변수의 값을 변경\n",
    "x = 10          # 전역 변수\n",
    "def foo():\n",
    "    x = 20      # x는 foo의 지역 변수\n",
    "    print(x)    # foo의 지역 변수 출력\n",
    "\n",
    "foo()\n",
    "print(x)        # 전역 변수 출력"
   ]
  },
  {
   "cell_type": "code",
   "execution_count": 6,
   "metadata": {},
   "outputs": [
    {
     "name": "stdout",
     "output_type": "stream",
     "text": [
      "20\n",
      "20\n"
     ]
    }
   ],
   "source": [
    "# global 전역변수 : 함수 안에서 전역 변수의 값을 변경\n",
    "\n",
    "a = 10      # 전역 변수\n",
    "def foo():  \n",
    "    global a    # 전역 변수 a를 사용하겠다고 설정\n",
    "    a = 20      # a는 전역 변수\n",
    "    print(a)\n",
    "\n",
    "foo()\n",
    "print(a)        # 전역 변수 출력"
   ]
  },
  {
   "cell_type": "code",
   "execution_count": 2,
   "metadata": {},
   "outputs": [
    {
     "name": "stdout",
     "output_type": "stream",
     "text": [
      "31\n"
     ]
    }
   ],
   "source": [
    "# global을 사용할 경우, 무조건 전역 변수를 사용하게 됨\n",
    "x = 1\n",
    "def A():\n",
    "    x = 10\n",
    "    def B():\n",
    "        x = 20\n",
    "        def C():\n",
    "            global x\n",
    "            x = x + 30\n",
    "            print(x)\n",
    "        C()\n",
    "    B()\n",
    "A()"
   ]
  },
  {
   "cell_type": "code",
   "execution_count": 7,
   "metadata": {},
   "outputs": [
    {
     "name": "stdout",
     "output_type": "stream",
     "text": [
      "20\n",
      "20\n"
     ]
    }
   ],
   "source": [
    "# 전역 변수가 없을 경우\n",
    "def foo():\n",
    "    global z    # z를 전역 변수로 만듦\n",
    "    z = 20      # z는 전역변수\n",
    "    print(z)    # 전역 변수 출력\n",
    "\n",
    "foo()\n",
    "print(z)        # 전역 변수 출력"
   ]
  },
  {
   "cell_type": "markdown",
   "metadata": {},
   "source": [
    "### 함수 안에서 함수 만들기"
   ]
  },
  {
   "cell_type": "code",
   "execution_count": 8,
   "metadata": {},
   "outputs": [
    {
     "name": "stdout",
     "output_type": "stream",
     "text": [
      "Hello, wordl!\n"
     ]
    }
   ],
   "source": [
    "def print_hello():\n",
    "    hello = 'Hello, wordl!'\n",
    "    def print_message():\n",
    "        print(hello)        #   바깥쪽 함수의 지역 변수를 사용, 바깥쪽 함수의 지역 변수는 그 안에 속한 모든 함수에서 접근할 수 있음\n",
    "    print_message()\n",
    "\n",
    "print_hello()"
   ]
  },
  {
   "cell_type": "code",
   "execution_count": 11,
   "metadata": {},
   "outputs": [
    {
     "name": "stdout",
     "output_type": "stream",
     "text": [
      "10\n"
     ]
    }
   ],
   "source": [
    "# 지역 변수의 변경하기\n",
    "# 함수에서 변수를 만들면, 현재 함수의 지역 변수가 됨\n",
    "\n",
    "def alpha():\n",
    "    c = 10      # alpha의 지역 변수\n",
    "    def Beta():\n",
    "        c = 20  # beta의 지역 변수 c를 새로 만듦\n",
    "\n",
    "    Beta()\n",
    "    print(c)    # alpha의 지역 변수 c 출력\n",
    "\n",
    "alpha()\n",
    "\n"
   ]
  },
  {
   "cell_type": "code",
   "execution_count": 1,
   "metadata": {},
   "outputs": [
    {
     "name": "stdout",
     "output_type": "stream",
     "text": [
      "50\n",
      "400\n"
     ]
    }
   ],
   "source": [
    "# nonlocal : 현재 함수의 지역 변수가 아님, 바깥쪽 함수의 지역 변수 사용\n",
    "\n",
    "def A():\n",
    "    x = 10\n",
    "    y = 100\n",
    "    def B():\n",
    "        x = 20\n",
    "        def C():\n",
    "            nonlocal x\n",
    "            nonlocal y      # 가장 가까운 함수부터 지역 변수를 찾고, 지역 변수가 없으면 계속 바깥쪽으로 나가서 찾음\n",
    "            x = x + 30\n",
    "            y = y + 300\n",
    "            print(x)\n",
    "            print(y)\n",
    "        C()\n",
    "    B()\n",
    "A()"
   ]
  },
  {
   "cell_type": "markdown",
   "metadata": {},
   "source": [
    "### 클로저 "
   ]
  },
  {
   "cell_type": "code",
   "execution_count": 5,
   "metadata": {},
   "outputs": [
    {
     "name": "stdout",
     "output_type": "stream",
     "text": [
      "8 11 14\n"
     ]
    }
   ],
   "source": [
    "# closure(클로저) : 함수를 둘러싼 환경을 계속 유지하다가, 함수를 호출할 때 다시 꺼내서 사용하는 함수\n",
    "\n",
    "def calc():\n",
    "    a = 3\n",
    "    b = 5\n",
    "    def mul_add(x):\n",
    "        return a * x + b    # 함수 바깥쪽에 있는 지역변수 a, b를 사용하여 계산\n",
    "    return mul_add          # mul_add 함수를 반환. 함수 반환시에는 () 붙이지 않음\n",
    "\n",
    "c = calc()\n",
    "print(c(1), c(2), c(3))"
   ]
  },
  {
   "cell_type": "code",
   "execution_count": 6,
   "metadata": {},
   "outputs": [
    {
     "name": "stdout",
     "output_type": "stream",
     "text": [
      "8 11 14\n"
     ]
    }
   ],
   "source": [
    "# lambda로 클로저 만들기\n",
    "\n",
    "def calc():\n",
    "    a = 3\n",
    "    b = 5\n",
    "    return lambda x:a * x + b   # 람다 표현식을 반환\n",
    "\n",
    "\n",
    "c = calc()\n",
    "print(c(1), c(2), c(3))"
   ]
  },
  {
   "cell_type": "code",
   "execution_count": 8,
   "metadata": {},
   "outputs": [
    {
     "name": "stdout",
     "output_type": "stream",
     "text": [
      "8\n",
      "19\n",
      "33\n"
     ]
    }
   ],
   "source": [
    "# nonlocal : 클로저의 지역 변수 변경 \n",
    "# a * x + b의 결과를 calc의 지역변수인 total에 누적\n",
    "\n",
    "def calc():\n",
    "    a = 3\n",
    "    b = 5\n",
    "    total = 0\n",
    "    def mul_add(x):\n",
    "        nonlocal total\n",
    "        total = total + a * x + b\n",
    "        print(total)\n",
    "    return mul_add\n",
    "\n",
    "c = calc()\n",
    "c(1)\n",
    "c(2)\n",
    "c(3)"
   ]
  }
 ],
 "metadata": {
  "interpreter": {
   "hash": "02cf71eb65b1e7e2fd04e6117c1e93fe8fa643baa67851b77641d15a1923424a"
  },
  "kernelspec": {
   "display_name": "Python 3.9.7 64-bit ('base': conda)",
   "language": "python",
   "name": "python3"
  },
  "language_info": {
   "codemirror_mode": {
    "name": "ipython",
    "version": 3
   },
   "file_extension": ".py",
   "mimetype": "text/x-python",
   "name": "python",
   "nbconvert_exporter": "python",
   "pygments_lexer": "ipython3",
   "version": "3.9.7"
  },
  "orig_nbformat": 4
 },
 "nbformat": 4,
 "nbformat_minor": 2
}
