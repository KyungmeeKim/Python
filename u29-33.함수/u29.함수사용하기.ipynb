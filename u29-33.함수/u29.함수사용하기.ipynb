{
 "cells": [
  {
   "cell_type": "markdown",
   "metadata": {},
   "source": [
    "# Unit29. 함수 사용하기"
   ]
  },
  {
   "cell_type": "markdown",
   "metadata": {},
   "source": [
    "### 함수 정의하기"
   ]
  },
  {
   "cell_type": "code",
   "execution_count": 4,
   "metadata": {},
   "outputs": [],
   "source": [
    "# 함수 정의\n",
    "\n",
    "def hello():\n",
    "    print('Hello wordl!')   # 함수 정의\n",
    "\n",
    "\n",
    "    hello()                 # 함수() : 함수 호출\n"
   ]
  },
  {
   "cell_type": "code",
   "execution_count": 6,
   "metadata": {},
   "outputs": [
    {
     "name": "stdout",
     "output_type": "stream",
     "text": [
      "30\n"
     ]
    }
   ],
   "source": [
    "# 매개변수(parameter)\n",
    "\n",
    "def add(a,b):\n",
    "    print(a + b)\n",
    "\n",
    "add (10, 20)"
   ]
  },
  {
   "cell_type": "markdown",
   "metadata": {},
   "source": [
    "### 함수의 결과 반환하기"
   ]
  },
  {
   "cell_type": "code",
   "execution_count": 7,
   "metadata": {},
   "outputs": [],
   "source": [
    "# return : 값을 함수 바깥으로 반환, 변수에 저장 할 수 있음\n",
    "\n",
    "def add(a,b):\n",
    "    return a + b"
   ]
  },
  {
   "cell_type": "code",
   "execution_count": 8,
   "metadata": {},
   "outputs": [
    {
     "data": {
      "text/plain": [
       "30"
      ]
     },
     "execution_count": 8,
     "metadata": {},
     "output_type": "execute_result"
    }
   ],
   "source": [
    "x = add(10, 20)\n",
    "x"
   ]
  },
  {
   "cell_type": "code",
   "execution_count": 6,
   "metadata": {},
   "outputs": [],
   "source": [
    "# return으로 함수 중간에서 빠져나오기\n",
    "# if와 조합해서 특정 조건일 때 함수 중간에서 빠져나옴\n",
    "\n",
    "def not_ten(a):\n",
    "    if a == 10:\n",
    "        return      # a가 10일 경우 함수에서 빠져나옴\n",
    "    print(a, '입니다.', sep = ' ')\n",
    "\n",
    "not_ten(10)     # 함수 중간에서 바로 빠져나왔기에, print가 실행되지 않음"
   ]
  },
  {
   "cell_type": "markdown",
   "metadata": {},
   "source": [
    "### 함수에서 값을 여러 개 반환하기"
   ]
  },
  {
   "cell_type": "code",
   "execution_count": 13,
   "metadata": {},
   "outputs": [
    {
     "name": "stdout",
     "output_type": "stream",
     "text": [
      "30\n",
      "-10\n"
     ]
    }
   ],
   "source": [
    "def add_sub(a, b):\n",
    "    return a + b, a - b\n",
    "\n",
    "x, y = add_sub(10, 20)  \n",
    "print(x)    # 튜플에 값을 반환하며, 튜플이 변수 여러 개에 할당되는 특성을 이용함\n",
    "print(y)"
   ]
  },
  {
   "cell_type": "markdown",
   "metadata": {},
   "source": [
    "### 함수의 호출 과정"
   ]
  },
  {
   "cell_type": "code",
   "execution_count": 14,
   "metadata": {},
   "outputs": [
    {
     "name": "stdout",
     "output_type": "stream",
     "text": [
      "30\n",
      "200\n"
     ]
    }
   ],
   "source": [
    "# stack diagram : 함수가 아래로 추가되고, 위에서 차례대로 꺼내는 방식\n",
    "\n",
    "def mul(a , b):\n",
    "    c = a * b\n",
    "    return c        \n",
    "\n",
    "def add(a, b):\n",
    "    c = a + b\n",
    "    print(c)\n",
    "    d = mul(a, b)\n",
    "    print(d)\n",
    "\n",
    "x = 10\n",
    "y = 20\n",
    "add (x, y)"
   ]
  }
 ],
 "metadata": {
  "interpreter": {
   "hash": "aee8b7b246df8f9039afb4144a1f6fd8d2ca17a180786b69acc140d282b71a49"
  },
  "kernelspec": {
   "display_name": "Python 3.10.1 64-bit",
   "language": "python",
   "name": "python3"
  },
  "language_info": {
   "codemirror_mode": {
    "name": "ipython",
    "version": 3
   },
   "file_extension": ".py",
   "mimetype": "text/x-python",
   "name": "python",
   "nbconvert_exporter": "python",
   "pygments_lexer": "ipython3",
   "version": "3.10.1"
  },
  "orig_nbformat": 4
 },
 "nbformat": 4,
 "nbformat_minor": 2
}
