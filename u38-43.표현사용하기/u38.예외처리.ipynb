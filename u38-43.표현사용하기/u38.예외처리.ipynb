{
 "cells": [
  {
   "cell_type": "markdown",
   "metadata": {},
   "source": [
    "# Unit 38. 예외처리 사용하기"
   ]
  },
  {
   "cell_type": "markdown",
   "metadata": {},
   "source": [
    "## try-except"
   ]
  },
  {
   "cell_type": "code",
   "execution_count": 2,
   "metadata": {},
   "outputs": [
    {
     "name": "stdout",
     "output_type": "stream",
     "text": [
      "예외가 발생했습니다. \n"
     ]
    }
   ],
   "source": [
    "# 예외(excerption) : 코드를 실행하는 중에 발생한 에러\n",
    "# 예외처리 : 예외가 발생하더라도 스크립트 실행을 중단하지 않고 계속 실행하게 해줌\n",
    "\n",
    "try:            # 실행할 코드\n",
    "    x = int(input('나눌 숫자를 입력하세요 : '))\n",
    "    y = 10 / x\n",
    "    print(y)\n",
    "except:         #  try에서 예외가 발생했을 때 만 실행 됨\n",
    "    print('예외가 발생했습니다. ')"
   ]
  },
  {
   "cell_type": "markdown",
   "metadata": {},
   "source": [
    "#### 특정 예외만 처리하기"
   ]
  },
  {
   "cell_type": "code",
   "execution_count": 5,
   "metadata": {},
   "outputs": [
    {
     "name": "stdout",
     "output_type": "stream",
     "text": [
      "잘못된 인덱스 입니다.\n"
     ]
    }
   ],
   "source": [
    "y = [10, 20, 30]\n",
    "\n",
    "try:\n",
    "    index, x = map(int, input('인덱스와 나눌 숫자를 입력하세요').split())\n",
    "    print(y[index] / x)\n",
    "except ZeroDivisionError:    # 예외 이름\n",
    "    print('숫자를 0으로 나눌 수 없습니다.',)\n",
    "except IndexError :\n",
    "    print('잘못된 인덱스 입니다.')"
   ]
  },
  {
   "cell_type": "markdown",
   "metadata": {},
   "source": [
    "#### 예외의 에러 메세지 받아오기"
   ]
  },
  {
   "cell_type": "code",
   "execution_count": 9,
   "metadata": {},
   "outputs": [
    {
     "name": "stdout",
     "output_type": "stream",
     "text": [
      "잘못된 인덱스 입니다. list index out of range\n"
     ]
    }
   ],
   "source": [
    "# 예외가 여러개 발생하더라도 먼저 발생한 예외의 처리 코드만 실행됨.\n",
    "# 또는 예외 중에서 높은 계층의 예외부터 처리됨 (기반클래스 > 파생클래스 순)\n",
    "\n",
    "y = [10, 20, 30]\n",
    "\n",
    "try:\n",
    "    index, x = map(int, input('인덱스와 나눌 숫자를 입력하세요').split())\n",
    "    print(y[index] / x)\n",
    "except ZeroDivisionError as e:    # 예외 에러 메세지 받을 변수 e\n",
    "    print('숫자를 0으로 나눌 수 없습니다.', e)\n",
    "except IndexError as e :\n",
    "    print('잘못된 인덱스 입니다.', e)"
   ]
  },
  {
   "cell_type": "code",
   "execution_count": 12,
   "metadata": {},
   "outputs": [
    {
     "name": "stdout",
     "output_type": "stream",
     "text": [
      "예외가 발생했습니다 division by zero\n"
     ]
    }
   ],
   "source": [
    "# 모든 예외의 에러 메세지 출력\n",
    "y = [10, 20, 30]\n",
    "\n",
    "try:\n",
    "    index, x = map(int, input('인덱스와 나눌 숫자를 입력하세요').split())\n",
    "    print(y[index] / x)\n",
    "    \n",
    "except Exception as e:  # 모든 예외의 에러 메세지를 출력\n",
    "    print('예외가 발생했습니다', e)"
   ]
  },
  {
   "cell_type": "markdown",
   "metadata": {},
   "source": [
    "#### else finally"
   ]
  },
  {
   "cell_type": "code",
   "execution_count": 13,
   "metadata": {},
   "outputs": [
    {
     "name": "stdout",
     "output_type": "stream",
     "text": [
      "3.3333333333333335\n"
     ]
    }
   ],
   "source": [
    "# else : 예외가 발생하지 않았을 때 처리하는 코드\n",
    "# 앞의 except 를 생락할 수 없음\n",
    "\n",
    "try:\n",
    "    x = int(input('나눌 숫자를 입력하세요 : '))\n",
    "    y = 10 / x\n",
    "except ZeroDivisionError :\n",
    "    print('숫자를 0으로 나눌 수 없습니다. ')\n",
    "else:\n",
    "    print(y)        # try의 코드에서 예외가 발생하지 않았을 때 실행"
   ]
  },
  {
   "cell_type": "code",
   "execution_count": 16,
   "metadata": {},
   "outputs": [
    {
     "name": "stdout",
     "output_type": "stream",
     "text": [
      "숫자를 0으로 나눌 수 없습니다. \n",
      "코드 실행이 끝났습니다.\n"
     ]
    }
   ],
   "source": [
    "# finally : 예외 발생 여부와 상관없이 항상 코드를 실행\n",
    "# except와 else를 생략할 수 있음\n",
    "try:\n",
    "    x = int(input('나눌 숫자를 입력하세요 : '))\n",
    "    y = 10 / x\n",
    "except ZeroDivisionError :\n",
    "    print('숫자를 0으로 나눌 수 없습니다. ')\n",
    "else:\n",
    "    print(y)\n",
    "finally:\n",
    "    print('코드 실행이 끝났습니다.')"
   ]
  },
  {
   "cell_type": "markdown",
   "metadata": {},
   "source": [
    "#### 예외 발생시키기"
   ]
  },
  {
   "cell_type": "code",
   "execution_count": 17,
   "metadata": {},
   "outputs": [
    {
     "name": "stdout",
     "output_type": "stream",
     "text": [
      "예외가 발생했습니다.  3의 배수가 아닙니다.\n"
     ]
    }
   ],
   "source": [
    "# raise 예외('에러메세지)\n",
    "\n",
    "try:\n",
    "    x = int(input('3의 배수를 입력하세요: '))\n",
    "    if x % 3 != 0:                              # x가 3의 배수가 아니면\n",
    "        raise Exception('3의 배수가 아닙니다.')     # 예외를 발생시킴\n",
    "    print(x)\n",
    "except Exception as e:      # 예외가 발생했을 떄 실행됨\n",
    "    print('예외가 발생했습니다. ', e)"
   ]
  },
  {
   "cell_type": "code",
   "execution_count": null,
   "metadata": {},
   "outputs": [],
   "source": [
    "# 예외를 다시 발생시키기 : except 안에서 raise를 사용하면 현재 예외를 다시 발생시킴\n",
    "try:\n",
    "    x = int(input('3의 배수를 입력하세요: '))\n",
    "    if x % 3 != 0:                              # x가 3의 배수가 아니면\n",
    "        raise Exception('3의 배수가 아닙니다.')     # 예외를 발생시킴\n",
    "    print(x)\n",
    "except Exception as e:      # 예외가 발생했을 떄 실행됨\n",
    "    print('예외가 발생했습니다. ', e)\n",
    "    raise RuntimeError('three_multiple 함수에서 예외가 발생했습니다.')"
   ]
  },
  {
   "cell_type": "code",
   "execution_count": 18,
   "metadata": {},
   "outputs": [
    {
     "ename": "AssertionError",
     "evalue": "3의 배수가 아닙니다.",
     "output_type": "error",
     "traceback": [
      "\u001b[0;31m---------------------------------------------------------------------------\u001b[0m",
      "\u001b[0;31mAssertionError\u001b[0m                            Traceback (most recent call last)",
      "\u001b[0;32m/var/folders/m4/3mtzsd2s0zz61hw4qbz_4gjm0000gn/T/ipykernel_2384/4145585895.py\u001b[0m in \u001b[0;36m<module>\u001b[0;34m\u001b[0m\n\u001b[1;32m      1\u001b[0m \u001b[0;31m# assert : 지정된 조건이 거짓일 때 AssertionError 예외를 발생\u001b[0m\u001b[0;34m\u001b[0m\u001b[0;34m\u001b[0m\u001b[0m\n\u001b[1;32m      2\u001b[0m \u001b[0mx\u001b[0m \u001b[0;34m=\u001b[0m \u001b[0mint\u001b[0m\u001b[0;34m(\u001b[0m\u001b[0minput\u001b[0m\u001b[0;34m(\u001b[0m\u001b[0;34m'3의 배수를 입력하세요: '\u001b[0m\u001b[0;34m)\u001b[0m\u001b[0;34m)\u001b[0m\u001b[0;34m\u001b[0m\u001b[0;34m\u001b[0m\u001b[0m\n\u001b[0;32m----> 3\u001b[0;31m \u001b[0;32massert\u001b[0m \u001b[0mx\u001b[0m \u001b[0;34m%\u001b[0m \u001b[0;36m3\u001b[0m \u001b[0;34m==\u001b[0m \u001b[0;36m0\u001b[0m\u001b[0;34m,\u001b[0m \u001b[0;34m'3의 배수가 아닙니다.'\u001b[0m\u001b[0;34m\u001b[0m\u001b[0;34m\u001b[0m\u001b[0m\n\u001b[0m\u001b[1;32m      4\u001b[0m \u001b[0mprint\u001b[0m\u001b[0;34m(\u001b[0m\u001b[0mx\u001b[0m\u001b[0;34m)\u001b[0m\u001b[0;34m\u001b[0m\u001b[0;34m\u001b[0m\u001b[0m\n",
      "\u001b[0;31mAssertionError\u001b[0m: 3의 배수가 아닙니다."
     ]
    }
   ],
   "source": [
    "# assert : 지정된 조건이 거짓일 때 AssertionError 예외를 발생\n",
    "x = int(input('3의 배수를 입력하세요: '))\n",
    "assert x % 3 == 0, '3의 배수가 아닙니다.'\n",
    "print(x)"
   ]
  },
  {
   "cell_type": "markdown",
   "metadata": {},
   "source": [
    "#### 사용자 정의 예외 : 프로그래머가 직접 만든 예외"
   ]
  },
  {
   "cell_type": "code",
   "execution_count": 19,
   "metadata": {},
   "outputs": [
    {
     "name": "stdout",
     "output_type": "stream",
     "text": [
      "예외가 발생했습니다. 3의 배수가 아닙니다.\n"
     ]
    }
   ],
   "source": [
    "# Exception을 상속받아 새로운 클래스를 만들어주면 됨\n",
    "class NotThreeMultipleError(Exception):     # Exception을 상속받아 클래스로 새로운 예외를 만듦\n",
    "    def __init__(self):                     # pass로 아무것도 구현하지 않아도됨\n",
    "        super().__init__('3의 배수가 아닙니다.')\n",
    "\n",
    "def three_multiple():\n",
    "    try:\n",
    "        x = int(input('3의 배수를 입력하세요: '))\n",
    "        if x % 3 != 0:                      # x가 3의 배수가 아니면\n",
    "            raise NotThreeMultipleError     # NotThreeMultipleError 예외를 발생시킴\n",
    "        print(x)\n",
    "    except Exception as e:\n",
    "        print('예외가 발생했습니다.', e)\n",
    "\n",
    "three_multiple()"
   ]
  },
  {
   "cell_type": "code",
   "execution_count": null,
   "metadata": {},
   "outputs": [],
   "source": []
  }
 ],
 "metadata": {
  "interpreter": {
   "hash": "aee8b7b246df8f9039afb4144a1f6fd8d2ca17a180786b69acc140d282b71a49"
  },
  "kernelspec": {
   "display_name": "Python 3.10.1 64-bit",
   "language": "python",
   "name": "python3"
  },
  "language_info": {
   "codemirror_mode": {
    "name": "ipython",
    "version": 3
   },
   "file_extension": ".py",
   "mimetype": "text/x-python",
   "name": "python",
   "nbconvert_exporter": "python",
   "pygments_lexer": "ipython3",
   "version": "3.10.1"
  },
  "orig_nbformat": 4
 },
 "nbformat": 4,
 "nbformat_minor": 2
}
