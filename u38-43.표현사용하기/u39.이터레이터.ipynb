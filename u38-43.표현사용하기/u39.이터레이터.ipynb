{
 "cells": [
  {
   "cell_type": "markdown",
   "metadata": {},
   "source": [
    "# Unit 39. 이터레이터"
   ]
  },
  {
   "cell_type": "code",
   "execution_count": 2,
   "metadata": {},
   "outputs": [
    {
     "data": {
      "text/plain": [
       "<list_iterator at 0x1035c9780>"
      ]
     },
     "execution_count": 2,
     "metadata": {},
     "output_type": "execute_result"
    }
   ],
   "source": [
    "# iterator : 값을 차례대로 꺼낼 수 있는 객체, 반복자\n",
    "# __iter__: 객체가 반복가능한 객체인지 알아 볼 수 있음\n",
    "[1, 2, 3].__iter__()"
   ]
  },
  {
   "cell_type": "code",
   "execution_count": 11,
   "metadata": {},
   "outputs": [
    {
     "name": "stdout",
     "output_type": "stream",
     "text": [
      "1\n",
      "2\n",
      "3\n"
     ]
    },
    {
     "ename": "StopIteration",
     "evalue": "",
     "output_type": "error",
     "traceback": [
      "\u001b[0;31m---------------------------------------------------------------------------\u001b[0m",
      "\u001b[0;31mStopIteration\u001b[0m                             Traceback (most recent call last)",
      "\u001b[0;32m/var/folders/m4/3mtzsd2s0zz61hw4qbz_4gjm0000gn/T/ipykernel_4978/109931933.py\u001b[0m in \u001b[0;36m<module>\u001b[0;34m\u001b[0m\n\u001b[1;32m      4\u001b[0m \u001b[0mprint\u001b[0m\u001b[0;34m(\u001b[0m\u001b[0mit\u001b[0m\u001b[0;34m.\u001b[0m\u001b[0m__next__\u001b[0m\u001b[0;34m(\u001b[0m\u001b[0;34m)\u001b[0m\u001b[0;34m)\u001b[0m\u001b[0;34m\u001b[0m\u001b[0;34m\u001b[0m\u001b[0m\n\u001b[1;32m      5\u001b[0m \u001b[0mprint\u001b[0m\u001b[0;34m(\u001b[0m\u001b[0mit\u001b[0m\u001b[0;34m.\u001b[0m\u001b[0m__next__\u001b[0m\u001b[0;34m(\u001b[0m\u001b[0;34m)\u001b[0m\u001b[0;34m)\u001b[0m\u001b[0;34m\u001b[0m\u001b[0;34m\u001b[0m\u001b[0m\n\u001b[0;32m----> 6\u001b[0;31m \u001b[0mprint\u001b[0m\u001b[0;34m(\u001b[0m\u001b[0mit\u001b[0m\u001b[0;34m.\u001b[0m\u001b[0m__next__\u001b[0m\u001b[0;34m(\u001b[0m\u001b[0;34m)\u001b[0m\u001b[0;34m)\u001b[0m\u001b[0;34m\u001b[0m\u001b[0;34m\u001b[0m\u001b[0m\n\u001b[0m",
      "\u001b[0;31mStopIteration\u001b[0m: "
     ]
    }
   ],
   "source": [
    "# 요소를 하나씩 꺼내기\n",
    "it = [1, 2, 3]. __iter__()      # 리스트의 이터레이터를 변수에 저장\n",
    "print(it.__next__())            #   __next__ 메서드 호출\n",
    "print(it.__next__()) \n",
    "print(it.__next__()) \n",
    "print(it.__next__())            # 꺼낼 요소가 없을 때, StopIteration 예외를 발생시켜 반복을 끝냄"
   ]
  },
  {
   "cell_type": "code",
   "execution_count": 15,
   "metadata": {},
   "outputs": [
    {
     "data": {
      "text/plain": [
       "0"
      ]
     },
     "execution_count": 15,
     "metadata": {},
     "output_type": "execute_result"
    }
   ],
   "source": [
    "# range, tuple, list 등 반복 가능한 객체에서 사용\n",
    "it = range(3).__iter__()    # 반복 가능한 객체가 __iter__메서드로 이터레이터를 얻고,\n",
    "it.__next__()               # 이터레이터의 __next__메서드로 반복함"
   ]
  },
  {
   "cell_type": "markdown",
   "metadata": {},
   "source": [
    "#### 반복가능한 객체와 시퀀스 객체\n",
    "반복 가능한 객체 < 시퀀스 객체\\\n",
    "시퀀스객체 : 요소의 순서가 정해져 있고 연속적으로 이어져 있는 객체\\\n",
    "*딕셔너리와 세트는 요소(키)의 순서가 정해져있지 않기 때문에 반복가능한 객체이나 시퀀스가 아님"
   ]
  },
  {
   "cell_type": "code",
   "execution_count": 3,
   "metadata": {},
   "outputs": [
    {
     "name": "stdout",
     "output_type": "stream",
     "text": [
      "0 1 2 "
     ]
    }
   ],
   "source": [
    "class Counter:\n",
    "    def __init__(self, stop):\n",
    "        self.current = 0    # 현재 숫자 유지, 0부터 지정된 숫자 직전까지 반복\n",
    "        self.stop = stop    # 반복을 끝낼 숫자\n",
    "\n",
    "    def __iter__(self):\n",
    "        return self         # 현재 인스턴스를 반환\n",
    "\n",
    "    def __next__(self):\n",
    "        if self.current < self.stop:    # 현재 숫자가 반복을 끝낼 숫자보다 작을 때\n",
    "            r = self.current            # 반환할 숫자를 변수에 저장\n",
    "            self.current += 1           # 현재 숫자를 1 증가 시킴\n",
    "            return r                    # 숫자를 반환\n",
    "        else:                           # 그렇지 안을 때\n",
    "            raise StopIteration         # 예외 발생\n",
    "\n",
    "for i in Counter(3):\n",
    "    print(i, end=' ')"
   ]
  },
  {
   "cell_type": "code",
   "execution_count": 4,
   "metadata": {},
   "outputs": [
    {
     "name": "stdout",
     "output_type": "stream",
     "text": [
      "0 1 2\n"
     ]
    }
   ],
   "source": [
    "# 이터레이터 언패킹 :이터레이터의 결과를 변수 여러개에 할당 할 수 있음\n",
    "# 이터레이터가 반복하는 횟수와 변수의 개수는 같아야 함\n",
    "\n",
    "a, b, c = Counter(3)\n",
    "print(a, b, c)"
   ]
  },
  {
   "cell_type": "code",
   "execution_count": 10,
   "metadata": {},
   "outputs": [
    {
     "data": {
      "text/plain": [
       "(0, 2, 3)"
      ]
     },
     "execution_count": 10,
     "metadata": {},
     "output_type": "execute_result"
    }
   ],
   "source": [
    "# 반환값 '_\" : 특정 순서의 반환값을 사용하지 않고 무시하겠다는 관례적 표현\n",
    "a, _, c, d = range(4)\n",
    "a, c, d"
   ]
  },
  {
   "cell_type": "markdown",
   "metadata": {},
   "source": [
    "### 인덱스로 접근할 수 있는 이터레이터"
   ]
  },
  {
   "cell_type": "code",
   "execution_count": 12,
   "metadata": {},
   "outputs": [
    {
     "name": "stdout",
     "output_type": "stream",
     "text": [
      "0 5 10\n",
      "0 5 10 "
     ]
    }
   ],
   "source": [
    "# __getitem__ : 이터레이터 생성, 파이썬 인덱스 생성\n",
    "\n",
    "class Counter:\n",
    "    def __init__(self, stop):\n",
    "        self.stop = stop    # 반복을 끝낼 숫자\n",
    "\n",
    "    def __getitem__(self, index):       # 클래스에서 getitem을 구현하면 인덱스로 접근할 수 있는 이터레이터가 됨\n",
    "        if index < self.stop:\n",
    "            return index \n",
    "        else:                           # 그렇지 안을 때\n",
    "            raise StopIteration         # 예외 발생\n",
    "\n",
    "print(Counter(3)[0], Counter(3)[1], Counter(3)[2])\n",
    "\n",
    "for i in Counter(3):\n",
    "    print(i, end= ' ')\n"
   ]
  },
  {
   "cell_type": "code",
   "execution_count": null,
   "metadata": {},
   "outputs": [],
   "source": []
  }
 ],
 "metadata": {
  "interpreter": {
   "hash": "aee8b7b246df8f9039afb4144a1f6fd8d2ca17a180786b69acc140d282b71a49"
  },
  "kernelspec": {
   "display_name": "Python 3.10.1 64-bit",
   "language": "python",
   "name": "python3"
  },
  "language_info": {
   "codemirror_mode": {
    "name": "ipython",
    "version": 3
   },
   "file_extension": ".py",
   "mimetype": "text/x-python",
   "name": "python",
   "nbconvert_exporter": "python",
   "pygments_lexer": "ipython3",
   "version": "3.10.1"
  },
  "orig_nbformat": 4
 },
 "nbformat": 4,
 "nbformat_minor": 2
}
