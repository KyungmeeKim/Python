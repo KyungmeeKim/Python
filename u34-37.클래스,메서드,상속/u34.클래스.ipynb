{
 "cells": [
  {
   "cell_type": "markdown",
   "metadata": {},
   "source": [
    "# Unit 34. 클래스"
   ]
  },
  {
   "cell_type": "markdown",
   "metadata": {},
   "source": [
    "class 클래스이름:\n",
    "    def 메서드(self):\n",
    "        코드"
   ]
  },
  {
   "cell_type": "code",
   "execution_count": 1,
   "metadata": {},
   "outputs": [
    {
     "name": "stdout",
     "output_type": "stream",
     "text": [
      "Hello\n"
     ]
    }
   ],
   "source": [
    "# 메서드의 첫 번째 매개변수는 반드시 self를 지정해야 함\n",
    "\n",
    "class Person:           # 클래스의 이름은 대문자로 시작\n",
    "    def greeting(self):\n",
    "        print('Hello')\n",
    "\n",
    "james = Person()        # instance(인스턴스) = 클래스() : 클래스는 특정 개념을 표현만 할 뿐, 사용하려면 인스턴스를 생성해야 함\n",
    "james.greeting()        # 인스턴스.메서드 : 메서드 호출하기\n",
    "# 인스턴스를 통해 호출하는 메서드 : 인스턴스 메서드 "
   ]
  },
  {
   "cell_type": "code",
   "execution_count": 2,
   "metadata": {},
   "outputs": [
    {
     "data": {
      "text/plain": [
       "int"
      ]
     },
     "execution_count": 2,
     "metadata": {},
     "output_type": "execute_result"
    }
   ],
   "source": [
    "# type(객체) : 객체가 어떤 클래스인지 확인할 수 있음\n",
    "a = 10\n",
    "type(a)"
   ]
  },
  {
   "cell_type": "code",
   "execution_count": 3,
   "metadata": {},
   "outputs": [
    {
     "name": "stdout",
     "output_type": "stream",
     "text": [
      "Hello\n"
     ]
    }
   ],
   "source": [
    "# 메서드 안에서 메서드 호출하기\n",
    "# self. 메서드()\n",
    "\n",
    "class Person:\n",
    "    def greeting(self):\n",
    "        print('Hello')\n",
    "    def hello(self):\n",
    "        self.greeting()    # 클래스 안의 메서드 호출 \n",
    "\n",
    "james = Person()\n",
    "james.hello()"
   ]
  },
  {
   "cell_type": "code",
   "execution_count": 4,
   "metadata": {},
   "outputs": [
    {
     "data": {
      "text/plain": [
       "True"
      ]
     },
     "execution_count": 4,
     "metadata": {},
     "output_type": "execute_result"
    }
   ],
   "source": [
    "# isinstance(인스턴스, 클래스): 특정 클래스의 인스턴스여부 확인하기\n",
    "\n",
    "class Person:\n",
    "    pass\n",
    "\n",
    "james = Person()\n",
    "isinstance(james, Person)\n"
   ]
  },
  {
   "cell_type": "code",
   "execution_count": 6,
   "metadata": {},
   "outputs": [],
   "source": [
    "# isinstance 활용 : 객체의 자료형을 판단할 때\n",
    "\n",
    "def factorial(n):\n",
    "    if not isinstance(n, int) or n < 0:     # n이 정수가 아니거나, 음수이면 함수를 끝냄\n",
    "        return None\n",
    "    if n == 1:\n",
    "        return 1\n",
    "    return n * factorial(n - 1)"
   ]
  },
  {
   "cell_type": "markdown",
   "metadata": {},
   "source": [
    "### 속성"
   ]
  },
  {
   "cell_type": "markdown",
   "metadata": {},
   "source": [
    "class 클래스 이름:\n",
    "    def __init__(self):\n",
    "        self.속성 = 값"
   ]
  },
  {
   "cell_type": "code",
   "execution_count": 1,
   "metadata": {},
   "outputs": [
    {
     "name": "stdout",
     "output_type": "stream",
     "text": [
      "안녕하세요\n"
     ]
    }
   ],
   "source": [
    "# __init__() : 인스턴스(객체)를 초기화 함. 클래스에 ()를 붙여서 인스턴스를 만들 때 호출되는 특별한 메서드\n",
    "\n",
    "class Person:\n",
    "    def __init__(self):        # 속성을 만듦 : __init__메서드에서 속성만듬, self. 할당\n",
    "        self.hello = '안녕하세요'\n",
    "\n",
    "    def greeting(self):         # 속성을 사용함\n",
    "        print(self.hello)\n",
    "\n",
    "james = Person()\n",
    "james.greeting()"
   ]
  },
  {
   "cell_type": "code",
   "execution_count": 11,
   "metadata": {},
   "outputs": [
    {
     "name": "stdout",
     "output_type": "stream",
     "text": [
      "안녕하세요 저는 daisy 입니다.\n",
      "이름: daisy\n",
      "나이: 27\n",
      "주소: 서울시 금천구\n"
     ]
    }
   ],
   "source": [
    "# 인스턴스를 만들 때 값 받기\n",
    "\n",
    "class Person:\n",
    "    def __init__(self, name, age, address) : \n",
    "        self.hello = '안녕하세요'\n",
    "        self.name = name\n",
    "        self.age = age\n",
    "        self.address = address\n",
    "\n",
    "    def greeting(self):\n",
    "        print('{0} 저는 {1} 입니다.' .format(self.hello, self.name))\n",
    "\n",
    "daisy = Person('daisy', 27, '서울시 금천구')\n",
    "daisy.greeting()\n",
    "\n",
    "print('이름:', daisy.name)      # 인스턴스 속성 : 인스턴스를 통해 접근하는 속성\n",
    "print('나이:', daisy.age)\n",
    "print('주소:', daisy.address)"
   ]
  },
  {
   "cell_type": "code",
   "execution_count": 1,
   "metadata": {},
   "outputs": [
    {
     "ename": "AttributeError",
     "evalue": "'Person' object has no attribute 'address'",
     "output_type": "error",
     "traceback": [
      "\u001b[0;31m---------------------------------------------------------------------------\u001b[0m",
      "\u001b[0;31mAttributeError\u001b[0m                            Traceback (most recent call last)",
      "\u001b[0;32m/var/folders/m4/3mtzsd2s0zz61hw4qbz_4gjm0000gn/T/ipykernel_17007/809275412.py\u001b[0m in \u001b[0;36m<module>\u001b[0;34m\u001b[0m\n\u001b[1;32m      5\u001b[0m \u001b[0mmaria\u001b[0m\u001b[0;34m.\u001b[0m\u001b[0mname\u001b[0m \u001b[0;34m=\u001b[0m \u001b[0;34m'마리아'\u001b[0m                     \u001b[0;31m# 허용된 속성\u001b[0m\u001b[0;34m\u001b[0m\u001b[0;34m\u001b[0m\u001b[0m\n\u001b[1;32m      6\u001b[0m \u001b[0mmaria\u001b[0m\u001b[0;34m.\u001b[0m\u001b[0mage\u001b[0m \u001b[0;34m=\u001b[0m \u001b[0;36m20\u001b[0m                            \u001b[0;31m# 허용된 속성\u001b[0m\u001b[0;34m\u001b[0m\u001b[0;34m\u001b[0m\u001b[0m\n\u001b[0;32m----> 7\u001b[0;31m \u001b[0mmaria\u001b[0m\u001b[0;34m.\u001b[0m\u001b[0maddress\u001b[0m \u001b[0;34m=\u001b[0m \u001b[0;34m'서울시 서초구 반포동'\u001b[0m    \u001b[0;31m# 허용되지 않은 속성은 추가할 때 에러가 발생함\u001b[0m\u001b[0;34m\u001b[0m\u001b[0;34m\u001b[0m\u001b[0m\n\u001b[0m",
      "\u001b[0;31mAttributeError\u001b[0m: 'Person' object has no attribute 'address'"
     ]
    }
   ],
   "source": [
    "# 특정 속성만 추가 허용(다른 속성은 생성 제한)\n",
    "# __slots__ = ['속성이름1', '속성이름2']\n",
    "class Person:\n",
    "    __slots__ = ['name', 'age']    # name, age만 허용(다른 속성은 생성 제한)\n",
    "maria = Person()\n",
    "maria.name = '마리아'                     # 허용된 속성\n",
    "maria.age = 20                            # 허용된 속성\n",
    "maria.address = '서울시 서초구 반포동'    # 허용되지 않은 속성은 추가할 때 에러가 발생함"
   ]
  },
  {
   "cell_type": "markdown",
   "metadata": {},
   "source": [
    "### 비공개 속성"
   ]
  },
  {
   "cell_type": "code",
   "execution_count": 12,
   "metadata": {},
   "outputs": [
    {
     "ename": "TypeError",
     "evalue": "Person.__init__() takes 4 positional arguments but 5 were given",
     "output_type": "error",
     "traceback": [
      "\u001b[0;31m---------------------------------------------------------------------------\u001b[0m",
      "\u001b[0;31mTypeError\u001b[0m                                 Traceback (most recent call last)",
      "\u001b[0;32m/var/folders/m4/3mtzsd2s0zz61hw4qbz_4gjm0000gn/T/ipykernel_8043/2412381676.py\u001b[0m in \u001b[0;36m<module>\u001b[0;34m\u001b[0m\n\u001b[1;32m     12\u001b[0m         \u001b[0mprint\u001b[0m\u001b[0;34m(\u001b[0m\u001b[0;34m'{0} 저는 {1} 입니다.'\u001b[0m \u001b[0;34m.\u001b[0m\u001b[0mformat\u001b[0m\u001b[0;34m(\u001b[0m\u001b[0mself\u001b[0m\u001b[0;34m.\u001b[0m\u001b[0mhello\u001b[0m\u001b[0;34m,\u001b[0m \u001b[0mself\u001b[0m\u001b[0;34m.\u001b[0m\u001b[0mname\u001b[0m\u001b[0;34m)\u001b[0m\u001b[0;34m)\u001b[0m\u001b[0;34m\u001b[0m\u001b[0;34m\u001b[0m\u001b[0m\n\u001b[1;32m     13\u001b[0m \u001b[0;34m\u001b[0m\u001b[0m\n\u001b[0;32m---> 14\u001b[0;31m \u001b[0mdaisy\u001b[0m \u001b[0;34m=\u001b[0m \u001b[0mPerson\u001b[0m\u001b[0;34m(\u001b[0m\u001b[0;34m'daisy'\u001b[0m\u001b[0;34m,\u001b[0m \u001b[0;36m27\u001b[0m\u001b[0;34m,\u001b[0m \u001b[0;34m'서울시 금천구'\u001b[0m\u001b[0;34m,\u001b[0m \u001b[0;36m10000\u001b[0m\u001b[0;34m)\u001b[0m\u001b[0;34m\u001b[0m\u001b[0;34m\u001b[0m\u001b[0m\n\u001b[0m\u001b[1;32m     15\u001b[0m \u001b[0mdaisy\u001b[0m\u001b[0;34m.\u001b[0m\u001b[0m__wallet\u001b[0m \u001b[0;34m-=\u001b[0m \u001b[0;36m10000\u001b[0m\u001b[0;34m\u001b[0m\u001b[0;34m\u001b[0m\u001b[0m\n",
      "\u001b[0;31mTypeError\u001b[0m: Person.__init__() takes 4 positional arguments but 5 were given"
     ]
    }
   ],
   "source": [
    "# private attribute (비공개 속성) : 클래스 안에서만 사용할 수 있음 \n",
    "\n",
    "class Person:\n",
    "    def __init__(self, name, age, address) : \n",
    "        self.hello = '안녕하세요'\n",
    "        self.name = name\n",
    "        self.age = age\n",
    "        self.address = address\n",
    "        self.__wallet = wallet      # 변수 앞에 __를 붙여 비공개 속성으로 만듦\n",
    "\n",
    "daisy = Person('daisy', 27, '서울시 금천구', 10000)\n",
    "daisy.__wallet -= 10000"
   ]
  },
  {
   "cell_type": "code",
   "execution_count": null,
   "metadata": {},
   "outputs": [],
   "source": [
    "# 비공개 메서드\n",
    "class Person:\n",
    "    def __greeting(self):\n",
    "        print('Hello')\n",
    " \n",
    "    def hello(self):\n",
    "        self.__greeting()    # 클래스 안에서는 비공개 메서드를 호출할 수 있음\n",
    " \n",
    "james = Person()\n",
    "james.__greeting()    # 에러: 클래스 바깥에서는 비공개 메서드를 호출할 수 없음"
   ]
  },
  {
   "cell_type": "code",
   "execution_count": 17,
   "metadata": {},
   "outputs": [
    {
     "name": "stdout",
     "output_type": "stream",
     "text": [
      "이제 7000원 남았네요.\n"
     ]
    }
   ],
   "source": [
    "# pay 메서드\n",
    "\n",
    "class Person:\n",
    "    def __init__(self, name, age, address, wallet) : \n",
    "        self.hello = '안녕하세요'\n",
    "        self.name = name\n",
    "        self.age = age\n",
    "        self.address = address\n",
    "        self.__wallet = wallet     # 변수 앞에 __를 붙여 비공개 속성으로 만듦\n",
    "\n",
    "    def pay(self, amount):\n",
    "        self. __wallet -= amount\n",
    "        print('이제 {0}원 남았네요.'.format(self.__wallet))\n",
    "\n",
    "daisy = Person('daisy', 27, '서울시 금천구', 10000)\n",
    "daisy.pay(3000)"
   ]
  },
  {
   "cell_type": "code",
   "execution_count": null,
   "metadata": {},
   "outputs": [],
   "source": []
  }
 ],
 "metadata": {
  "interpreter": {
   "hash": "aee8b7b246df8f9039afb4144a1f6fd8d2ca17a180786b69acc140d282b71a49"
  },
  "kernelspec": {
   "display_name": "Python 3.10.1 64-bit",
   "language": "python",
   "name": "python3"
  },
  "language_info": {
   "codemirror_mode": {
    "name": "ipython",
    "version": 3
   },
   "file_extension": ".py",
   "mimetype": "text/x-python",
   "name": "python",
   "nbconvert_exporter": "python",
   "pygments_lexer": "ipython3",
   "version": "3.10.1"
  },
  "orig_nbformat": 4
 },
 "nbformat": 4,
 "nbformat_minor": 2
}
