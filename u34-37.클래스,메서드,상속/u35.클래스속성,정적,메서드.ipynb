{
 "cells": [
  {
   "cell_type": "markdown",
   "metadata": {},
   "source": [
    "# Unit 35. 클래스 속성, 정적, 메서드"
   ]
  },
  {
   "cell_type": "markdown",
   "metadata": {},
   "source": [
    "## 클래스 속성과 인스턴스 속성"
   ]
  },
  {
   "cell_type": "markdown",
   "metadata": {},
   "source": [
    "### 클래스 속성"
   ]
  },
  {
   "cell_type": "code",
   "execution_count": 1,
   "metadata": {},
   "outputs": [
    {
     "name": "stdout",
     "output_type": "stream",
     "text": [
      "['책', '열쇠']\n",
      "['책', '열쇠']\n"
     ]
    }
   ],
   "source": [
    "class Person:\n",
    "    bag = []            # 클래스 속성, 클래스에 속해있으며, 모든 인스턴스에서 공유함\n",
    "\n",
    "    def put_bag(self, stuff):\n",
    "        Person.bag.append(stuff)    # 클래스 이름으로 클래스 속성에 접근\n",
    "\n",
    "james = Person()\n",
    "james.put_bag('책')\n",
    "\n",
    "maria = Person()\n",
    "maria.put_bag('열쇠')\n",
    "\n",
    "print(james.bag)\n",
    "print(maria.bag)"
   ]
  },
  {
   "cell_type": "code",
   "execution_count": 2,
   "metadata": {},
   "outputs": [
    {
     "name": "stdout",
     "output_type": "stream",
     "text": [
      "['책', '열쇠']\n"
     ]
    }
   ],
   "source": [
    "print(Person.bag)"
   ]
  },
  {
   "cell_type": "code",
   "execution_count": 5,
   "metadata": {},
   "outputs": [
    {
     "name": "stdout",
     "output_type": "stream",
     "text": [
      "10\n"
     ]
    },
    {
     "ename": "AttributeError",
     "evalue": "type object 'Knight' has no attribute '__item_limit'",
     "output_type": "error",
     "traceback": [
      "\u001b[0;31m---------------------------------------------------------------------------\u001b[0m",
      "\u001b[0;31mAttributeError\u001b[0m                            Traceback (most recent call last)",
      "\u001b[0;32m/var/folders/m4/3mtzsd2s0zz61hw4qbz_4gjm0000gn/T/ipykernel_1431/3411638767.py\u001b[0m in \u001b[0;36m<module>\u001b[0;34m\u001b[0m\n\u001b[1;32m     11\u001b[0m \u001b[0mx\u001b[0m\u001b[0;34m.\u001b[0m\u001b[0mprint_item_limit\u001b[0m\u001b[0;34m(\u001b[0m\u001b[0;34m)\u001b[0m    \u001b[0;31m# 10\u001b[0m\u001b[0;34m\u001b[0m\u001b[0;34m\u001b[0m\u001b[0m\n\u001b[1;32m     12\u001b[0m \u001b[0;34m\u001b[0m\u001b[0m\n\u001b[0;32m---> 13\u001b[0;31m \u001b[0mprint\u001b[0m\u001b[0;34m(\u001b[0m\u001b[0mKnight\u001b[0m\u001b[0;34m.\u001b[0m\u001b[0m__item_limit\u001b[0m\u001b[0;34m)\u001b[0m  \u001b[0;31m# 클래스 바깥에서는 접근할 수 없음\u001b[0m\u001b[0;34m\u001b[0m\u001b[0;34m\u001b[0m\u001b[0m\n\u001b[0m",
      "\u001b[0;31mAttributeError\u001b[0m: type object 'Knight' has no attribute '__item_limit'"
     ]
    }
   ],
   "source": [
    "# 비공개 클래스 속성\n",
    "# __속성 = 값 \n",
    "\n",
    "class Knight:\n",
    "    __item_limit = 10   # 비공개 클래스 속성\n",
    "\n",
    "    def print_item_limit(self):\n",
    "        print(Knight.__item_limit)  # 클래스 안에서만 접근할 수 있음\n",
    "\n",
    "x = Knight()\n",
    "x.print_item_limit()    # 10, 접근가능\n",
    "\n",
    "print(Knight.__item_limit)  # 클래스 바깥에서는 접근할 수 없음"
   ]
  },
  {
   "cell_type": "markdown",
   "metadata": {},
   "source": [
    "### 인스턴스 속성"
   ]
  },
  {
   "cell_type": "code",
   "execution_count": 3,
   "metadata": {},
   "outputs": [
    {
     "name": "stdout",
     "output_type": "stream",
     "text": [
      "['책']\n",
      "['열쇠']\n"
     ]
    }
   ],
   "source": [
    "# 인스턴스 속성은 인스턴스 별로 독립되어 있으며, 서로 영향을 주지 않음 \n",
    "class Person:\n",
    "    def __init__(self):\n",
    "        self.bag = []\n",
    "\n",
    "    def put_bag(self, stuff):\n",
    "        self.bag.append(stuff)\n",
    "\n",
    "james = Person()\n",
    "james. put_bag('책')\n",
    "\n",
    "maria = Person()\n",
    "maria.put_bag('열쇠')\n",
    "\n",
    "print(james.bag)\n",
    "print(maria.bag)"
   ]
  },
  {
   "cell_type": "code",
   "execution_count": 4,
   "metadata": {},
   "outputs": [],
   "source": [
    "# 클래스 속성 : 모든 인스턴스가 공유. 인스턴스 전체가 사용해야 하는 값을 저장할 때 사용\n",
    "# 인스턴스 속성 : 인스턴스 별로 독립되어있음. 각 인스턴스가 값을 따로 저장해야할 때 사용"
   ]
  },
  {
   "cell_type": "markdown",
   "metadata": {},
   "source": [
    "## 정적 메서드"
   ]
  },
  {
   "cell_type": "code",
   "execution_count": 6,
   "metadata": {},
   "outputs": [
    {
     "name": "stdout",
     "output_type": "stream",
     "text": [
      "30\n",
      "200\n"
     ]
    }
   ],
   "source": [
    "# 메서드 위에 @staticmethod & 매개 변수에 self를 지정하지 않음\n",
    "# self 를 받지 않았기에, 인스턴스 속성에 접근할 수 없음\n",
    "# 메서드의 실행이 외부 상태에 영향을 끼치지 않는 순수함수를 만들 때. \" 인스턴스의 상태를 변화시키지 않는 메서드를 만들 때\"\n",
    "\n",
    "class Calc:\n",
    "    @staticmethod\n",
    "    def add(a, b):\n",
    "        print(a + b)\n",
    "\n",
    "    @staticmethod\n",
    "    def mul(a, b):\n",
    "        print(a * b)\n",
    "\n",
    "Calc.add(10, 20)\n",
    "Calc.mul(10, 20)"
   ]
  },
  {
   "cell_type": "markdown",
   "metadata": {},
   "source": [
    "## 클래스 메서드"
   ]
  },
  {
   "cell_type": "code",
   "execution_count": 2,
   "metadata": {},
   "outputs": [
    {
     "name": "stdout",
     "output_type": "stream",
     "text": [
      "2명 생성되었습니다.\n"
     ]
    }
   ],
   "source": [
    "# 메서드 위에 @classmethod & 첫 번째 매개변수에 cls를 지정해야함\n",
    "# 메서드 안에서 클래스 속성, 클래스 메서드에 접근해야 할 떄 사용\n",
    "\n",
    "class Person:\n",
    "    count = 0   # 클래스 속성\n",
    "\n",
    "    def __init__(self):\n",
    "        Person.count += 1    # 인스턴스가 만들어 질 때\n",
    "                             # 클래스 속성 count에 1을 더함\n",
    "\n",
    "    @classmethod\n",
    "    def print_count(cls):\n",
    "        print('{0}명 생성되었습니다.'.format(cls.count))    # cls로 클래스 속성에 접근\n",
    "\n",
    "james = Person()\n",
    "maria = Person()\n",
    "\n",
    "Person.print_count()\n"
   ]
  },
  {
   "cell_type": "code",
   "execution_count": 1,
   "metadata": {},
   "outputs": [],
   "source": [
    "# 메서드 안에서 현재 클래스의 인스턴스를 만들 수도 있습니다.\n",
    "@classmethod\n",
    "def create(cls):\n",
    "    p = cls()   #cls()로 인스턴스 생성\n",
    "    return p"
   ]
  },
  {
   "cell_type": "code",
   "execution_count": null,
   "metadata": {},
   "outputs": [],
   "source": []
  }
 ],
 "metadata": {
  "interpreter": {
   "hash": "aee8b7b246df8f9039afb4144a1f6fd8d2ca17a180786b69acc140d282b71a49"
  },
  "kernelspec": {
   "display_name": "Python 3.10.1 64-bit",
   "language": "python",
   "name": "python3"
  },
  "language_info": {
   "codemirror_mode": {
    "name": "ipython",
    "version": 3
   },
   "file_extension": ".py",
   "mimetype": "text/x-python",
   "name": "python",
   "nbconvert_exporter": "python",
   "pygments_lexer": "ipython3",
   "version": "3.10.1"
  },
  "orig_nbformat": 4
 },
 "nbformat": 4,
 "nbformat_minor": 2
}
