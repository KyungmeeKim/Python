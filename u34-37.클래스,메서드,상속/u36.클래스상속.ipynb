{
 "cells": [
  {
   "cell_type": "markdown",
   "metadata": {},
   "source": [
    "# Unit 36. 클래스와 상속"
   ]
  },
  {
   "cell_type": "code",
   "execution_count": 1,
   "metadata": {},
   "outputs": [
    {
     "name": "stdout",
     "output_type": "stream",
     "text": [
      "안녕하세요\n",
      "공부하기\n"
     ]
    }
   ],
   "source": [
    "# 클래스 상속(inheritance) : 물려받은 기능을 유지한 채로 다른 기능을 추가할 때\n",
    "# 기반클래스(base class) : 기능을 물려주는 클래스 \n",
    "# 파생클래스(derived class) : 상속을 받아 새롭게 만드는 클래스\n",
    "\n",
    "class Person:               # base class\n",
    "    def greeting(self):\n",
    "        print('안녕하세요')\n",
    "\n",
    "class Student(Person):      # derived class\n",
    "    def study(self):\n",
    "        print('공부하기')\n",
    "\n",
    "james = Student()\n",
    "james.greeting()            # 안녕하세요: base class(Person)의 메서드 호출\n",
    "james.study()               # 공부하기: derived class 메서드 호출"
   ]
  },
  {
   "cell_type": "code",
   "execution_count": 2,
   "metadata": {},
   "outputs": [
    {
     "data": {
      "text/plain": [
       "True"
      ]
     },
     "execution_count": 2,
     "metadata": {},
     "output_type": "execute_result"
    }
   ],
   "source": [
    "# issubclass(파생클래스, 기반클래스): 클래스의 상속관계 확인\n",
    "issubclass(Student, Person)\n"
   ]
  },
  {
   "cell_type": "markdown",
   "metadata": {},
   "source": [
    "### 상속관계와 포함관계"
   ]
  },
  {
   "cell_type": "code",
   "execution_count": null,
   "metadata": {},
   "outputs": [],
   "source": [
    "# is - a 관계 : 상속관계 (동등한 관계)\n",
    "# Student is a Person\n",
    "class Person:               # base class\n",
    "    def greeting(self):\n",
    "        print('안녕하세요')\n",
    "\n",
    "class Student(Person):      # derived class\n",
    "    def study(self):\n",
    "        print('공부하기')\n"
   ]
  },
  {
   "cell_type": "code",
   "execution_count": 3,
   "metadata": {},
   "outputs": [],
   "source": [
    "# has - a 관계 : 포함관계 \n",
    "# PersonList has a Person\n",
    "\n",
    "class Person:               \n",
    "    def greeting(self):\n",
    "        print('안녕하세요')\n",
    "\n",
    "class PersonList:\n",
    "    def __init__(self):\n",
    "        self.person_list = []   # 리스트 속성에 Person 인스턴스를 넣어서 관리\n",
    "    \n",
    "    def append_person(self, person):    # 리스트 속성에 Person 인스턴스를 추가하는 함수\n",
    "        self. person_list.append(person)"
   ]
  },
  {
   "cell_type": "markdown",
   "metadata": {},
   "source": [
    "### 기반 클래스의 속성 사용하기"
   ]
  },
  {
   "cell_type": "code",
   "execution_count": 2,
   "metadata": {},
   "outputs": [
    {
     "name": "stdout",
     "output_type": "stream",
     "text": [
      "Student __init__\n",
      "person __init__\n",
      "파이썬 코딩도장\n",
      "안녕하세요\n"
     ]
    }
   ],
   "source": [
    "# super(). 메서드() : 기반 클래스의 __init__메서드를 호출\n",
    "\n",
    "class Person:\n",
    "    def __init__(self):\n",
    "        print('person __init__')\n",
    "        self.hello = '안녕하세요'\n",
    "\n",
    "class Student(Person):\n",
    "    def __init__(self):\n",
    "        print('Student __init__')\n",
    "        super().__init__()      # super()로 기반 클래스의 __init__ 메서드 호출\n",
    "        self.school = '파이썬 코딩도장'\n",
    "\n",
    "james = Student()\n",
    "print(james.school)\n",
    "print(james.hello)\n"
   ]
  },
  {
   "cell_type": "code",
   "execution_count": null,
   "metadata": {},
   "outputs": [],
   "source": [
    "# 파생 클래스에서 __init__ 메서드를 생략하면! 기반 클래스의 __init__ 이 자동으로 호출되기에, super()은 사용하지 않아도 됨\n"
   ]
  },
  {
   "cell_type": "code",
   "execution_count": 3,
   "metadata": {},
   "outputs": [
    {
     "name": "stdout",
     "output_type": "stream",
     "text": [
      "person __init__\n",
      "안녕하세요\n"
     ]
    }
   ],
   "source": [
    "class Person:\n",
    "    def __init__(self):\n",
    "        print('person __init__')\n",
    "        self.hello = '안녕하세요'\n",
    "\n",
    "class Student(Person):\n",
    "    pass\n",
    "\n",
    "james = Student()\n",
    "print(james.hello)\n"
   ]
  },
  {
   "cell_type": "code",
   "execution_count": 4,
   "metadata": {},
   "outputs": [],
   "source": [
    "# super(파생클래스, self).메서드 : super 명확하게 사용하기\n",
    "class Student(Person):\n",
    "    def __init__(self):\n",
    "        print('Student __init__')\n",
    "        super(Student, self).__init__()     # super(파생클래스, self)로 기반 클래스의 메서드 호출\n",
    "        self.school = '파이썬 코딩 도장'"
   ]
  },
  {
   "cell_type": "markdown",
   "metadata": {},
   "source": [
    "### 메서드 오버라이딩"
   ]
  },
  {
   "cell_type": "code",
   "execution_count": 10,
   "metadata": {},
   "outputs": [
    {
     "name": "stdout",
     "output_type": "stream",
     "text": [
      "안녕하세요, 저는 파이썬 코딩조장 학생입니다.\n"
     ]
    }
   ],
   "source": [
    "# method overriding : 파생클래스에서 기반 클래스의 메서드를 새로 정의\n",
    "# 원래 기능을 유지하면서 새로운 기능을 덧붙일 때\n",
    "\n",
    "class Person: \n",
    "    def greeting(self):\n",
    "        print('안녕하세요')\n",
    "\n",
    "class Student(Person):\n",
    "    def greeting(self):\n",
    "        print('안녕하세요, 저는 파이썬 코딩조장 학생입니다.')   # 파생클래스에서 greeting 메소드를 새로 정의\n",
    "\n",
    "james = Student()\n",
    "james.greeting()\n"
   ]
  },
  {
   "cell_type": "code",
   "execution_count": 9,
   "metadata": {},
   "outputs": [
    {
     "name": "stdout",
     "output_type": "stream",
     "text": [
      "안녕하세요\n",
      "저는 파이썬 코딩도장 학생입니다.\n"
     ]
    }
   ],
   "source": [
    "# super().기반클래스메서드 : 기반 클래스 메서드 호출\n",
    "\n",
    "class Person:\n",
    "    def greeting(self):\n",
    "        print('안녕하세요')\n",
    "\n",
    "class Student(Person):\n",
    "    def greeting(self):\n",
    "        super().greeting()      # 기반 클래스의 메서드 호출하여 중복을 줄임\n",
    "        print('저는 파이썬 코딩도장 학생입니다.')\n",
    "\n",
    "james = Student()\n",
    "james.greeting()"
   ]
  },
  {
   "cell_type": "markdown",
   "metadata": {},
   "source": [
    "### 다중 상속"
   ]
  },
  {
   "cell_type": "code",
   "execution_count": 1,
   "metadata": {},
   "outputs": [
    {
     "name": "stdout",
     "output_type": "stream",
     "text": [
      "안녕하세요.\n",
      "학점 관리\n",
      "공부하기\n"
     ]
    }
   ],
   "source": [
    "class Person:\n",
    "    def greeting(self):\n",
    "        print('안녕하세요.')\n",
    " \n",
    "class University:\n",
    "    def manage_credit(self):\n",
    "        print('학점 관리')\n",
    " \n",
    "class Undergraduate(Person, University):        \n",
    "    def study(self):\n",
    "        print('공부하기')\n",
    " \n",
    "james = Undergraduate()\n",
    "james.greeting()         # 안녕하세요.: 기반 클래스 Person의 메서드 호출\n",
    "james.manage_credit()    # 학점 관리: 기반 클래스 University의 메서드 호출\n",
    "james.study()            # 공부하기: 파생 클래스 Undergraduate에 추가한 study 메서드"
   ]
  },
  {
   "cell_type": "code",
   "execution_count": 2,
   "metadata": {},
   "outputs": [
    {
     "name": "stdout",
     "output_type": "stream",
     "text": [
      "안녕하세요. B입니다.\n"
     ]
    }
   ],
   "source": [
    "# 다이아몬드 상속\n",
    "class A:\n",
    "    def greeting(self):\n",
    "        print('안녕하세요. A입니다.')\n",
    " \n",
    "class B(A):\n",
    "    def greeting(self):\n",
    "        print('안녕하세요. B입니다.')\n",
    " \n",
    "class C(A):\n",
    "    def greeting(self):\n",
    "        print('안녕하세요. C입니다.')\n",
    " \n",
    "class D(B, C):\n",
    "    pass\n",
    " \n",
    "x = D()\n",
    "x.greeting()"
   ]
  },
  {
   "cell_type": "code",
   "execution_count": 5,
   "metadata": {},
   "outputs": [
    {
     "data": {
      "text/plain": [
       "[__main__.D, __main__.B, __main__.C, __main__.A, object]"
      ]
     },
     "execution_count": 5,
     "metadata": {},
     "output_type": "execute_result"
    }
   ],
   "source": [
    "# 클래스.mro() : 메서드 탐색 순서 확인하기\n",
    "D.mro()\n",
    "#[__main__.D, __main__.B, __main__.C, __main__.A, object]\n",
    "# D로 인스턴스를 만들고, B를 먼저 호출함\n",
    "# 파이썬은 다중상속에서 왼쪽에서 오른쪽 순서로 메서드를 찾음"
   ]
  },
  {
   "cell_type": "markdown",
   "metadata": {},
   "source": [
    "### 추상 클래스"
   ]
  },
  {
   "cell_type": "code",
   "execution_count": 7,
   "metadata": {},
   "outputs": [
    {
     "name": "stdout",
     "output_type": "stream",
     "text": [
      "공부하기\n",
      "학교가기\n"
     ]
    }
   ],
   "source": [
    "# abstract class(추상 클래스): 메서드의 목록만 가진 클래스. 상속받는 클래스에서 메서드 구현함\n",
    "\n",
    "from abc import *\n",
    "\n",
    "class StudentBase(metaclass=ABCMeta):\n",
    "    @abstractmethod\n",
    "    def study(self):\n",
    "        pass\n",
    "\n",
    "    @abstractmethod\n",
    "    def go_to_school(self):\n",
    "        pass\n",
    "\n",
    "class Student(StudentBase):\n",
    "    def study(self):\n",
    "        print('공부하기')\n",
    "    \n",
    "    def go_to_school(self):\n",
    "        print('학교가기')\n",
    "\n",
    "james = Student()\n",
    "james.study()\n",
    "james.go_to_school()"
   ]
  },
  {
   "cell_type": "code",
   "execution_count": 8,
   "metadata": {},
   "outputs": [],
   "source": [
    "# 추상 메서드는 인스턴스로 만들 수 없음\n",
    "# 오로지 상속에만 사용"
   ]
  }
 ],
 "metadata": {
  "interpreter": {
   "hash": "aee8b7b246df8f9039afb4144a1f6fd8d2ca17a180786b69acc140d282b71a49"
  },
  "kernelspec": {
   "display_name": "Python 3.10.1 64-bit",
   "language": "python",
   "name": "python3"
  },
  "language_info": {
   "codemirror_mode": {
    "name": "ipython",
    "version": 3
   },
   "file_extension": ".py",
   "mimetype": "text/x-python",
   "name": "python",
   "nbconvert_exporter": "python",
   "pygments_lexer": "ipython3",
   "version": "3.10.1"
  },
  "orig_nbformat": 4
 },
 "nbformat": 4,
 "nbformat_minor": 2
}
