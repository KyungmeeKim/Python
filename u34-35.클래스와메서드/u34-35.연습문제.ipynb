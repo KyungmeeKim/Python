{
 "cells": [
  {
   "cell_type": "markdown",
   "metadata": {},
   "source": [
    "다음 소스 코드를 완성하여 확장자가 .jpg, .png인 이미지 파일만 출력되게 만드세요.\n",
    " 여기서는 람다 표현식을 사용해야 하며 출력 결과는 리스트 형태라야 합니다. 람다 표현식에서 확장자를 검사할 때는 문자열 메서드를 활용하세요.\n",
    "\n"
   ]
  },
  {
   "cell_type": "code",
   "execution_count": 30,
   "metadata": {},
   "outputs": [
    {
     "name": "stdout",
     "output_type": "stream",
     "text": [
      "['1.png', '10.jpgs', '2.jpg', '3.png']\n"
     ]
    }
   ],
   "source": [
    "files = ['font', '1.png', '10.jpg', '11.gif', '2.jpg', '3.png', 'table.xslx', 'spec.docx']\n",
    " \n",
    "print(list(filter(lambda x: '.jpg' in x or '.png' in x , files)))"
   ]
  },
  {
   "cell_type": "markdown",
   "metadata": {},
   "source": [
    "# Unit 35"
   ]
  },
  {
   "cell_type": "markdown",
   "metadata": {},
   "source": [
    "다음 소스 코드에서 Date 클래스를 완성하세요. is_date_valid는 문자열이 올바른 날짜인지 검사하는 메서드입니다. 날짜에서 월은 12월까지 일은 31일까지 있어야 합니다.\n",
    "\n",
    "practice_class_static_class_method.py\n",
    "class Date:\n",
    "                                                                \n",
    "    ...\n",
    "                                                                \n",
    " \n",
    "if Date.is_date_valid('2000-10-31'):\n",
    "    print('올바른 날짜 형식입니다.')\n",
    "else:\n",
    "    print('잘못된 날짜 형식입니다.')"
   ]
  },
  {
   "cell_type": "code",
   "execution_count": 3,
   "metadata": {},
   "outputs": [
    {
     "name": "stdout",
     "output_type": "stream",
     "text": [
      "올바른 날짜 형식입니다.\n"
     ]
    }
   ],
   "source": [
    "# 35.5\n",
    "class Date:\n",
    "    @staticmethod\n",
    "    def is_date_valid(date_string):\n",
    "        year, month, day = map(int, date_string.split('-'))\n",
    "        return month <= 12 and day <= 31\n",
    "\n",
    "if Date.is_date_valid('2000-10-31'):\n",
    "    print('올바른 날짜 형식입니다.')\n",
    "else:\n",
    "    print('잘못된 날짜 형식입니다.')"
   ]
  },
  {
   "cell_type": "markdown",
   "metadata": {},
   "source": [
    "표준 입력으로 시:분:초 형식의 시간이 입력됩니다. \n",
    "다음 소스 코드에서 Time 클래스를 완성하여 시, 분, 초가 출력되게 만드세요. \n",
    "from_string은 문자열로 인스턴스를 만드는 메서드이며 \n",
    "is_time_valid는 문자열이 올바른 시간인지 검사하는 메서드입니다. \n",
    "시간은 24시까지, 분은 59분까지, 초는 60초까지 있어야 합니다. \n",
    "정답에 코드를 작성할 때는 class Time:에 맞춰서 들여쓰기를 해주세요."
   ]
  },
  {
   "cell_type": "code",
   "execution_count": 8,
   "metadata": {},
   "outputs": [
    {
     "name": "stdout",
     "output_type": "stream",
     "text": [
      "23 35 59\n"
     ]
    }
   ],
   "source": [
    "# 35.6\n",
    "class Time:\n",
    "    def __init__(self, hour, minute, second):\n",
    "        self.hour = hour\n",
    "        self.minute = minute\n",
    "        self.second = second\n",
    "    @classmethod\n",
    "    def from_string(cls, time_string):\n",
    "        hour, minute, second = map(int, time_string. split(':'))\n",
    "        time=cls(hour, minute, second)\n",
    "        return time\n",
    "    @staticmethod\n",
    "    def is_time_valid(time_string):\n",
    "        hour, minute, second = map(int, time_string. split(':'))\n",
    "        return hour <= 24, minute <= 59, second <= 60\n",
    "    \n",
    "time_string = input()\n",
    " \n",
    "if Time.is_time_valid(time_string):\n",
    "    t = Time.from_string(time_string)\n",
    "    print(t.hour, t.minute, t.second)\n",
    "else:\n",
    "    print('잘못된 시간 형식입니다.')"
   ]
  },
  {
   "cell_type": "code",
   "execution_count": null,
   "metadata": {},
   "outputs": [],
   "source": []
  }
 ],
 "metadata": {
  "interpreter": {
   "hash": "aee8b7b246df8f9039afb4144a1f6fd8d2ca17a180786b69acc140d282b71a49"
  },
  "kernelspec": {
   "display_name": "Python 3.10.1 64-bit",
   "language": "python",
   "name": "python3"
  },
  "language_info": {
   "codemirror_mode": {
    "name": "ipython",
    "version": 3
   },
   "file_extension": ".py",
   "mimetype": "text/x-python",
   "name": "python",
   "nbconvert_exporter": "python",
   "pygments_lexer": "ipython3",
   "version": "3.10.1"
  },
  "orig_nbformat": 4
 },
 "nbformat": 4,
 "nbformat_minor": 2
}
