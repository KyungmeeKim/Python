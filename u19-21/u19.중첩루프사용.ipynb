{
 "cells": [
  {
   "cell_type": "markdown",
   "metadata": {},
   "source": [
    "# Unit 19. 중첩루프 사용하기"
   ]
  },
  {
   "cell_type": "code",
   "execution_count": 2,
   "metadata": {},
   "outputs": [
    {
     "name": "stdout",
     "output_type": "stream",
     "text": [
      "j: 0 j: 1 j: 2 j: 3 j: 4 i:0\\n\n",
      "j: 0 j: 1 j: 2 j: 3 j: 4 i:1\\n\n",
      "j: 0 j: 1 j: 2 j: 3 j: 4 i:2\\n\n",
      "j: 0 j: 1 j: 2 j: 3 j: 4 i:3\\n\n",
      "j: 0 j: 1 j: 2 j: 3 j: 4 i:4\\n\n"
     ]
    }
   ],
   "source": [
    "for i in range (5):     # 바깥쪽 루프는 세로 방향\n",
    "    for j in range (5):     # 안쪽 루프는 가로 방향\n",
    "        print('j:', j, sep=' ', end=' ')        # j값 출력. end에 ' '를 지정하여 줄바꿈 대신 한 칸 띄움\\\n",
    "    print('i:', i, '\\\\n', sep='')\n",
    "    # i 값 출력, 개행 문자 모양도 출력\n",
    "    # 가로 방향으로 숫자를 모두 출력한 뒤 다음으로 넘어감\n",
    "    # print는 기본적으로 출력 후 다음 줄로 넘어감"
   ]
  },
  {
   "cell_type": "code",
   "execution_count": 7,
   "metadata": {},
   "outputs": [
    {
     "name": "stdout",
     "output_type": "stream",
     "text": [
      "*****\n",
      "*****\n"
     ]
    }
   ],
   "source": [
    "for i in range(2):\n",
    "    for j in range(5):\n",
    "        print('*', end='')\n",
    "    print()"
   ]
  },
  {
   "cell_type": "markdown",
   "metadata": {},
   "source": [
    "### 계단식으로 별 출력하기"
   ]
  },
  {
   "cell_type": "code",
   "execution_count": 8,
   "metadata": {},
   "outputs": [
    {
     "name": "stdout",
     "output_type": "stream",
     "text": [
      "*\n",
      "**\n",
      "***\n",
      "****\n",
      "*****\n"
     ]
    }
   ],
   "source": [
    "for i in range(5):\n",
    "    for j in range(5):\n",
    "        if j <= i:\n",
    "            print('*', end ='')\n",
    "    print()"
   ]
  },
  {
   "cell_type": "code",
   "execution_count": 9,
   "metadata": {},
   "outputs": [
    {
     "name": "stdout",
     "output_type": "stream",
     "text": [
      "*    \n",
      " *   \n",
      "  *  \n",
      "   * \n",
      "    *\n"
     ]
    }
   ],
   "source": [
    "for i in range(5): \n",
    "    for j in range(5):\n",
    "        if j == i:              # 세로 방향 변수와 같을 때\n",
    "            print('*', end='')  # 별 출력. (end에 ''를 지정하여 줄바꿈을 하지 않음)\n",
    "        else:                   # 세로 방향 변수와 다를 때\n",
    "            print(' ', end='')  # 공백출력. (end에 ''를 지정하여 줄바꿈을 하지 않음)\n",
    "    print()"
   ]
  },
  {
   "cell_type": "code",
   "execution_count": null,
   "metadata": {},
   "outputs": [],
   "source": []
  }
 ],
 "metadata": {
  "interpreter": {
   "hash": "31f2aee4e71d21fbe5cf8b01ff0e069b9275f58929596ceb00d14d90e3e16cd6"
  },
  "kernelspec": {
   "display_name": "Python 3.8.9 64-bit",
   "language": "python",
   "name": "python3"
  },
  "language_info": {
   "codemirror_mode": {
    "name": "ipython",
    "version": 3
   },
   "file_extension": ".py",
   "mimetype": "text/x-python",
   "name": "python",
   "nbconvert_exporter": "python",
   "pygments_lexer": "ipython3",
   "version": "3.8.9"
  },
  "orig_nbformat": 4
 },
 "nbformat": 4,
 "nbformat_minor": 2
}
