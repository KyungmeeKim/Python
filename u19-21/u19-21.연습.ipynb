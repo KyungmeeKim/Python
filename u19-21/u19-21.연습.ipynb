{
 "cells": [
  {
   "cell_type": "markdown",
   "metadata": {},
   "source": [
    "# Unit 19"
   ]
  },
  {
   "cell_type": "code",
   "execution_count": 29,
   "metadata": {},
   "outputs": [
    {
     "name": "stdout",
     "output_type": "stream",
     "text": [
      "*****\n",
      " ****\n",
      "  ***\n",
      "   **\n",
      "    *\n"
     ]
    }
   ],
   "source": [
    "for i in range(5):\n",
    "    for j in range(5):\n",
    "        if j < i:\n",
    "            print(' ', end='')\n",
    "        else:\n",
    "            print('*', end='')\n",
    "    print()\n"
   ]
  },
  {
   "cell_type": "code",
   "execution_count": 12,
   "metadata": {},
   "outputs": [
    {
     "name": "stdout",
     "output_type": "stream",
     "text": [
      "   *\n",
      "  ***\n",
      " *****\n"
     ]
    }
   ],
   "source": [
    "h = int(input())\n",
    "\n",
    "for i in range(1, h+1):\n",
    "    for j in range( h + 1 - i):\n",
    "        print(' ', end='')\n",
    "    for j in range( (i * 2) - 1):\n",
    "           print('*', end='')\n",
    "    print()"
   ]
  },
  {
   "cell_type": "markdown",
   "metadata": {},
   "source": [
    "# Unit 20"
   ]
  },
  {
   "cell_type": "code",
   "execution_count": null,
   "metadata": {},
   "outputs": [],
   "source": [
    "for i in range(1, 101):\n",
    "    if i % 2 == 0 and i % 11 == 0:\n",
    "        print('FizzBuzz')\n",
    "    elif i % 2 == 0:\n",
    "        print('Fizz')\n",
    "    elif i % 11 == 0:\n",
    "        print('Buzz')\n",
    "    else:\n",
    "        print(i)"
   ]
  },
  {
   "cell_type": "code",
   "execution_count": 2,
   "metadata": {},
   "outputs": [
    {
     "name": "stdout",
     "output_type": "stream",
     "text": [
      "FizzBuzz\n",
      "36\n",
      "37\n",
      "38\n",
      "39\n",
      "Fizz\n"
     ]
    }
   ],
   "source": [
    "a, b = map(int, input().split())\n",
    "\n",
    "for i in range(a, b+1):\n",
    "    if i % 5 == 0 and i % 7 == 0:\n",
    "        print('FizzBuzz')\n",
    "    elif i % 5 == 0:\n",
    "        print('Fizz')\n",
    "    elif i % 7 == 0:\n",
    "        print('Buzz')\n",
    "    else:\n",
    "        print(i)"
   ]
  },
  {
   "cell_type": "code",
   "execution_count": null,
   "metadata": {},
   "outputs": [],
   "source": []
  }
 ],
 "metadata": {
  "interpreter": {
   "hash": "31f2aee4e71d21fbe5cf8b01ff0e069b9275f58929596ceb00d14d90e3e16cd6"
  },
  "kernelspec": {
   "display_name": "Python 3.8.9 64-bit",
   "language": "python",
   "name": "python3"
  },
  "language_info": {
   "codemirror_mode": {
    "name": "ipython",
    "version": 3
   },
   "file_extension": ".py",
   "mimetype": "text/x-python",
   "name": "python",
   "nbconvert_exporter": "python",
   "pygments_lexer": "ipython3",
   "version": "3.8.9"
  },
  "orig_nbformat": 4
 },
 "nbformat": 4,
 "nbformat_minor": 2
}
