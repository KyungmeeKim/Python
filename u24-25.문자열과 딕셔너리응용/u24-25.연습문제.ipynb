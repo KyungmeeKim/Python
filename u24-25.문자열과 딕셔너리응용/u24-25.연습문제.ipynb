{
 "cells": [
  {
   "cell_type": "markdown",
   "metadata": {},
   "source": [
    "## Unit 24"
   ]
  },
  {
   "cell_type": "code",
   "execution_count": 2,
   "metadata": {},
   "outputs": [
    {
     "name": "stdout",
     "output_type": "stream",
     "text": [
      "python.exe\n"
     ]
    }
   ],
   "source": [
    "# 파일 경로에서 파일명만 가져오기\n",
    "path = 'C:\\\\Users\\\\dojang\\\\AppData\\\\Local\\\\Programs\\\\Python\\\\Python36-32\\\\python.exe'\n",
    "x = path.split('\\\\')\n",
    "filename = x[-1]\n",
    "print(filename)"
   ]
  },
  {
   "cell_type": "code",
   "execution_count": 18,
   "metadata": {},
   "outputs": [
    {
     "name": "stdout",
     "output_type": "stream",
     "text": [
      "0\n"
     ]
    }
   ],
   "source": [
    "# 24.5\n",
    "paragraph = input().split()\n",
    "count = 0\n",
    "for words in paragraph:\n",
    "    if words.strip(',.') == 'the':\n",
    "        count += 1\n",
    "print(count)\n"
   ]
  },
  {
   "cell_type": "code",
   "execution_count": 43,
   "metadata": {},
   "outputs": [
    {
     "name": "stdout",
     "output_type": "stream",
     "text": [
      "1,304,000\n",
      "  367,500\n",
      "  250,000\n",
      "  158,000\n",
      "  128,500\n",
      "   83,000\n",
      "   59,200\n",
      "   51,900\n"
     ]
    }
   ],
   "source": [
    "# 24.6\n",
    "prices = list(map(int,input().split(';')))\n",
    "prices.sort(reverse=True)\n",
    "for i in prices:\n",
    "    print('{0:>9,}'.format(i))"
   ]
  },
  {
   "cell_type": "markdown",
   "metadata": {},
   "source": [
    "# Unit 25"
   ]
  },
  {
   "cell_type": "code",
   "execution_count": 1,
   "metadata": {},
   "outputs": [
    {
     "name": "stdout",
     "output_type": "stream",
     "text": [
      "89.25\n"
     ]
    }
   ],
   "source": [
    "maria = {'korean': 94, 'english': 91, 'mathematics': 89, 'science': 83}\n",
    "average = sum(maria.values())/len(maria)                                         \n",
    "print(average)"
   ]
  },
  {
   "cell_type": "code",
   "execution_count": 8,
   "metadata": {},
   "outputs": [
    {
     "name": "stdout",
     "output_type": "stream",
     "text": [
      "{'alpha': 10, 'bravo': 20}\n"
     ]
    }
   ],
   "source": [
    "#표준 입력으로 문자열 여러 개와 숫자 여러 개가 두 줄로 입력되고, 첫 번째 줄은 키, 두 번째 줄은 값으로 하여 딕셔너리를 생성합니다.\n",
    "# 다음 코드를 완성하여 딕셔너리에서 키가 'delta'인 키-값 쌍과 값이 30인 키-값 쌍을 삭제하도록 만드세요.\n",
    "keys = input().split()\n",
    "values = map(int, input().split())\n",
    "\n",
    "x = dict(zip(keys, values))\n",
    "del x['delta']\n",
    "x = {keys: values for keys, values in x.items() if values != 30}\n",
    "\n",
    "print(x)\n"
   ]
  },
  {
   "cell_type": "code",
   "execution_count": null,
   "metadata": {},
   "outputs": [],
   "source": []
  },
  {
   "cell_type": "code",
   "execution_count": null,
   "metadata": {},
   "outputs": [],
   "source": []
  }
 ],
 "metadata": {
  "interpreter": {
   "hash": "aee8b7b246df8f9039afb4144a1f6fd8d2ca17a180786b69acc140d282b71a49"
  },
  "kernelspec": {
   "display_name": "Python 3.10.1 64-bit",
   "language": "python",
   "name": "python3"
  },
  "language_info": {
   "codemirror_mode": {
    "name": "ipython",
    "version": 3
   },
   "file_extension": ".py",
   "mimetype": "text/x-python",
   "name": "python",
   "nbconvert_exporter": "python",
   "pygments_lexer": "ipython3",
   "version": "3.10.1"
  },
  "orig_nbformat": 4
 },
 "nbformat": 4,
 "nbformat_minor": 2
}
