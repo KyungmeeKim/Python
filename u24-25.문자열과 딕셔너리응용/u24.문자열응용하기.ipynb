{
 "cells": [
  {
   "cell_type": "markdown",
   "metadata": {},
   "source": [
    "# Unit 24. 문자열 응용하기"
   ]
  },
  {
   "cell_type": "markdown",
   "metadata": {},
   "source": [
    "### 1. 바꾸기"
   ]
  },
  {
   "cell_type": "code",
   "execution_count": 3,
   "metadata": {},
   "outputs": [
    {
     "data": {
      "text/plain": [
       "'Hello, Python!'"
      ]
     },
     "execution_count": 3,
     "metadata": {},
     "output_type": "execute_result"
    }
   ],
   "source": [
    "# replace('바꿀 문자열', '새 문자열')\n",
    "'Hello, world!'.replace('world', 'Python')"
   ]
  },
  {
   "cell_type": "code",
   "execution_count": 5,
   "metadata": {},
   "outputs": [
    {
     "data": {
      "text/plain": [
       "'Hello, Python!'"
      ]
     },
     "execution_count": 5,
     "metadata": {},
     "output_type": "execute_result"
    }
   ],
   "source": [
    "# 바뀐 결과를 유지하고 싶을 경우, 문자열이 저장된 변수에 replace 사용 후 재할당 \n",
    "s = 'Hello, world!'\n",
    "s = s.replace('world', 'Python')\n",
    "s"
   ]
  },
  {
   "cell_type": "code",
   "execution_count": 7,
   "metadata": {},
   "outputs": [
    {
     "data": {
      "text/plain": [
       "'1ppl2'"
      ]
     },
     "execution_count": 7,
     "metadata": {},
     "output_type": "execute_result"
    }
   ],
   "source": [
    "# 문자 바꾸기\n",
    "table = str.maketrans('aeiou', '12345')     # str.maketrans('바꿀문자', '새문자') : 변환 테이블 만듬\n",
    "'apple'.translate(table)            # translate(테이블) : 문자를 바꾼 뒤 결과를 반환"
   ]
  },
  {
   "cell_type": "markdown",
   "metadata": {},
   "source": [
    "### 2. 문자열 분리하기"
   ]
  },
  {
   "cell_type": "code",
   "execution_count": 8,
   "metadata": {},
   "outputs": [
    {
     "data": {
      "text/plain": [
       "['apple', 'pear', 'grape', 'pineapple', 'orange']"
      ]
     },
     "execution_count": 8,
     "metadata": {},
     "output_type": "execute_result"
    }
   ],
   "source": [
    "# split : 공백을 기준으로 문자열을 분리하여 리스트로 만듦\n",
    "'apple pear grape pineapple orange'.split()"
   ]
  },
  {
   "cell_type": "code",
   "execution_count": 9,
   "metadata": {},
   "outputs": [
    {
     "data": {
      "text/plain": [
       "['apple', 'pear', 'grape', 'pineapple', 'orange']"
      ]
     },
     "execution_count": 9,
     "metadata": {},
     "output_type": "execute_result"
    }
   ],
   "source": [
    "'apple, pear, grape, pineapple, orange' .split(', ')    # split('기준문자열') : 기준 문자열로 문자열을 분리"
   ]
  },
  {
   "cell_type": "markdown",
   "metadata": {},
   "source": [
    "### 3. 문자열 리스트 연결하기"
   ]
  },
  {
   "cell_type": "code",
   "execution_count": 13,
   "metadata": {},
   "outputs": [
    {
     "data": {
      "text/plain": [
       "'apple-pear-grape-pineapple-orange'"
      ]
     },
     "execution_count": 13,
     "metadata": {},
     "output_type": "execute_result"
    }
   ],
   "source": [
    "# join(리스트): 구분자 문자열과 문자열 리스트의 요소를 연결하여 문자열로 만듦\n",
    "'-'.join(['apple', 'pear', 'grape', 'pineapple', 'orange'])"
   ]
  },
  {
   "cell_type": "markdown",
   "metadata": {},
   "source": [
    "### 4. 대소문자 바꾸기"
   ]
  },
  {
   "cell_type": "code",
   "execution_count": 14,
   "metadata": {},
   "outputs": [
    {
     "data": {
      "text/plain": [
       "'PYTHON'"
      ]
     },
     "execution_count": 14,
     "metadata": {},
     "output_type": "execute_result"
    }
   ],
   "source": [
    "# upper(): 대문자 바꾸기\n",
    "'python'.upper()"
   ]
  },
  {
   "cell_type": "code",
   "execution_count": 15,
   "metadata": {},
   "outputs": [
    {
     "data": {
      "text/plain": [
       "'python'"
      ]
     },
     "execution_count": 15,
     "metadata": {},
     "output_type": "execute_result"
    }
   ],
   "source": [
    "# lower() : 소문자 바꾸기\n",
    "'PYTHON'.lower()"
   ]
  },
  {
   "cell_type": "markdown",
   "metadata": {},
   "source": [
    "### 5. 삭제하기"
   ]
  },
  {
   "cell_type": "code",
   "execution_count": 24,
   "metadata": {},
   "outputs": [
    {
     "name": "stdout",
     "output_type": "stream",
     "text": [
      "Python  \n",
      " Python.\n"
     ]
    }
   ],
   "source": [
    "# lstrip() : 왼쪽 공백 삭제하기\n",
    "print('   Python  '.lstrip())\n",
    "\n",
    "# lstrip('삭제할 문자들') : 문자열 왼쪽 중 해당 문자 삭제하기\n",
    "print(', Python.'.lstrip(',.'))"
   ]
  },
  {
   "cell_type": "code",
   "execution_count": 25,
   "metadata": {},
   "outputs": [
    {
     "name": "stdout",
     "output_type": "stream",
     "text": [
      "   Python\n",
      ", Python\n"
     ]
    }
   ],
   "source": [
    "# rstrip() : 오른쪽 공백 삭제하기\n",
    "print('   Python  '.rstrip())\n",
    "\n",
    "# rstrip('삭제할 문자들')\n",
    "print(', Python.'.rstrip(',.'))"
   ]
  },
  {
   "cell_type": "code",
   "execution_count": 27,
   "metadata": {},
   "outputs": [
    {
     "name": "stdout",
     "output_type": "stream",
     "text": [
      "Python\n",
      " Python\n"
     ]
    }
   ],
   "source": [
    "# 양쪽 공백 삭제하기\n",
    "print('   Python  '.strip())\n",
    "\n",
    "# strip('삭제할 문자들') : 양쪽의 해당 문자 삭제하기\n",
    "print(', Python.'.strip(',.'))"
   ]
  },
  {
   "cell_type": "markdown",
   "metadata": {},
   "source": [
    "### 6. 문자열 정렬하기"
   ]
  },
  {
   "cell_type": "code",
   "execution_count": 28,
   "metadata": {},
   "outputs": [
    {
     "data": {
      "text/plain": [
       "'python    '"
      ]
     },
     "execution_count": 28,
     "metadata": {},
     "output_type": "execute_result"
    }
   ],
   "source": [
    "# ljust(길이) : 문자열을 지정된 길이로 만든 뒤, 왼쪽으로 정렬하여 남는 공간을 공백으로 채움\n",
    "'python'.ljust(10)"
   ]
  },
  {
   "cell_type": "code",
   "execution_count": 29,
   "metadata": {},
   "outputs": [
    {
     "data": {
      "text/plain": [
       "'    python'"
      ]
     },
     "execution_count": 29,
     "metadata": {},
     "output_type": "execute_result"
    }
   ],
   "source": [
    "# rjust(길이) : 문자열을 지정된 길이로 만든 뒤, 오른쪽으로 정렬하여 남는 공간을 공백으로 채움\n",
    "'python'.rjust(10)"
   ]
  },
  {
   "cell_type": "code",
   "execution_count": 31,
   "metadata": {},
   "outputs": [
    {
     "data": {
      "text/plain": [
       "'   python  '"
      ]
     },
     "execution_count": 31,
     "metadata": {},
     "output_type": "execute_result"
    }
   ],
   "source": [
    "# center(길이) : 문자열을 지정된 길이로 만든 뒤 가운데로 정렬하며 남는 공간을 공백으로 채움\n",
    "'python'.center(11)"
   ]
  },
  {
   "cell_type": "code",
   "execution_count": 33,
   "metadata": {},
   "outputs": [
    {
     "data": {
      "text/plain": [
       "'    PYTHON'"
      ]
     },
     "execution_count": 33,
     "metadata": {},
     "output_type": "execute_result"
    }
   ],
   "source": [
    "# 메서드 체이닝 : 메서드를 계속 연결해서 호출\n",
    "'python'.rjust(10).upper()"
   ]
  },
  {
   "cell_type": "markdown",
   "metadata": {},
   "source": [
    "### 7. 문자열 빈공간에 0 채우기"
   ]
  },
  {
   "cell_type": "code",
   "execution_count": 36,
   "metadata": {},
   "outputs": [
    {
     "data": {
      "text/plain": [
       "'0035'"
      ]
     },
     "execution_count": 36,
     "metadata": {},
     "output_type": "execute_result"
    }
   ],
   "source": [
    "# zfill(길이) : 지정된 길이에 맞춰 문자열의 왼쪽에 0을 채움\n",
    "'35'.zfill(4)   # 숫자 앞에 0을 채움"
   ]
  },
  {
   "cell_type": "markdown",
   "metadata": {},
   "source": [
    "### 8. 문자열 위치 찾기"
   ]
  },
  {
   "cell_type": "code",
   "execution_count": 41,
   "metadata": {},
   "outputs": [
    {
     "name": "stdout",
     "output_type": "stream",
     "text": [
      "2\n",
      "-1\n"
     ]
    },
    {
     "data": {
      "text/plain": [
       "12"
      ]
     },
     "execution_count": 41,
     "metadata": {},
     "output_type": "execute_result"
    }
   ],
   "source": [
    "# find('찾을 문자열')\n",
    "print('apple pineapple'.find('pl'))    # 찾는 문자열이 있을 경우 처음 찾은 문자열의 인덱스를 반환\n",
    "print('apple pineapple'.find('xy'))    # 찾눈 문자열이 없을 경우 -1 반환\n",
    "\n",
    "# 오른쪽에서부터 문자열 위치 찾기\n",
    "print('apple pineapple'.rfind('pl'))"
   ]
  },
  {
   "cell_type": "code",
   "execution_count": 43,
   "metadata": {},
   "outputs": [
    {
     "name": "stdout",
     "output_type": "stream",
     "text": [
      "2\n",
      "12\n"
     ]
    }
   ],
   "source": [
    "# index('찾을 문자열')\n",
    "print('apple pineapple'.index('pl'))\n",
    "\n",
    "# index로 오른쪽에서 부터 문자열 찾기\n",
    "print('apple pineapple'.rindex('pl'))"
   ]
  },
  {
   "cell_type": "markdown",
   "metadata": {},
   "source": [
    "### 9. 문자열 세기"
   ]
  },
  {
   "cell_type": "code",
   "execution_count": 44,
   "metadata": {},
   "outputs": [
    {
     "data": {
      "text/plain": [
       "2"
      ]
     },
     "execution_count": 44,
     "metadata": {},
     "output_type": "execute_result"
    }
   ],
   "source": [
    "# count('문자열') : 현재 문자열에서 특정 문자열이 몇 번 나오는지 알아내기\n",
    "'apple pineapple'.count('pl')"
   ]
  }
 ],
 "metadata": {
  "interpreter": {
   "hash": "aee8b7b246df8f9039afb4144a1f6fd8d2ca17a180786b69acc140d282b71a49"
  },
  "kernelspec": {
   "display_name": "Python 3.10.1 64-bit",
   "language": "python",
   "name": "python3"
  },
  "language_info": {
   "codemirror_mode": {
    "name": "ipython",
    "version": 3
   },
   "file_extension": ".py",
   "mimetype": "text/x-python",
   "name": "python",
   "nbconvert_exporter": "python",
   "pygments_lexer": "ipython3",
   "version": "3.10.1"
  },
  "orig_nbformat": 4
 },
 "nbformat": 4,
 "nbformat_minor": 2
}
