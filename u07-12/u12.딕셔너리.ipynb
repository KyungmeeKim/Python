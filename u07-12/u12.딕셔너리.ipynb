{
 "cells": [
  {
   "cell_type": "markdown",
   "metadata": {},
   "source": [
    "# Unit.12 딕셔너리"
   ]
  },
  {
   "cell_type": "code",
   "execution_count": 1,
   "metadata": {},
   "outputs": [],
   "source": [
    "lux = [490, 334, 550, 18.72]"
   ]
  },
  {
   "cell_type": "code",
   "execution_count": 3,
   "metadata": {},
   "outputs": [
    {
     "data": {
      "text/plain": [
       "{'health': 490, 'mana': 334, 'melee': 550, 'armor': 18.72}"
      ]
     },
     "execution_count": 3,
     "metadata": {},
     "output_type": "execute_result"
    }
   ],
   "source": [
    "# 연관된 값을 묶어서 저장하는 용도\n",
    "lux = {'health': 490, 'mana': 334, 'melee': 550, 'armor': 18.72}\n",
    "lux"
   ]
  },
  {
   "cell_type": "code",
   "execution_count": 10,
   "metadata": {},
   "outputs": [
    {
     "data": {
      "text/plain": [
       "{'name': '제이크', 'height': 183, 'age': 31, 'is_man': True}"
      ]
     },
     "execution_count": 10,
     "metadata": {},
     "output_type": "execute_result"
    }
   ],
   "source": [
    "# 딕셔너리 : { 키1 : 값1, 키2 : 값2 ...}\n",
    "# 중복되는 키 값은 저장되지 않음\n",
    "person = {'name':'제이크', 'height': 183, 'age': 31, 'is_man': True}\n",
    "person"
   ]
  },
  {
   "cell_type": "code",
   "execution_count": 14,
   "metadata": {},
   "outputs": [
    {
     "data": {
      "text/plain": [
       "{'이름': '데이지', '나이': 26, '키': 165}"
      ]
     },
     "execution_count": 14,
     "metadata": {},
     "output_type": "execute_result"
    }
   ],
   "source": [
    "person2 = {'이름':'데이지', '나이':26, '키':165}\n",
    "person2"
   ]
  },
  {
   "cell_type": "code",
   "execution_count": 1,
   "metadata": {},
   "outputs": [
    {
     "data": {
      "text/plain": [
       "{100: 'hundred', False: 0, 3.5: [3.5, 3.5]}"
      ]
     },
     "execution_count": 1,
     "metadata": {},
     "output_type": "execute_result"
    }
   ],
   "source": [
    "# 키 : 문자열, 실수, 정수 , 불, 자료형 사용가능 (단, 리스트와 딕셔너리를 사용할 수 없음)\n",
    "# 값 : 리스트, 딕셔너리 등을 포함한 모든 자료형\n",
    "x = {100 : 'hundred', False: 0, 3.5: [3.5, 3.5]}\n",
    "x"
   ]
  },
  {
   "cell_type": "code",
   "execution_count": 16,
   "metadata": {},
   "outputs": [],
   "source": [
    "# 빈 딕셔너리\n",
    "x = {}\n",
    "y = dict()"
   ]
  },
  {
   "cell_type": "code",
   "execution_count": 17,
   "metadata": {},
   "outputs": [],
   "source": [
    "s = set()"
   ]
  },
  {
   "cell_type": "code",
   "execution_count": 25,
   "metadata": {},
   "outputs": [
    {
     "data": {
      "text/plain": [
       "{'health': 490, 'mana': 334, 'melee': 550, 'armor': 18.72}"
      ]
     },
     "execution_count": 25,
     "metadata": {},
     "output_type": "execute_result"
    }
   ],
   "source": [
    "# 잘 안써요\n",
    "ux = dict(name='제이크', height= 183, age= 31, is_man= True)\n",
    "lux"
   ]
  },
  {
   "cell_type": "code",
   "execution_count": 26,
   "metadata": {},
   "outputs": [
    {
     "data": {
      "text/plain": [
       "{'health': 490, 'mana': 334, 'melee': 550, 'armor': 18.72}"
      ]
     },
     "execution_count": 26,
     "metadata": {},
     "output_type": "execute_result"
    }
   ],
   "source": [
    "keys = ['health', 'mana', 'melee', 'armor']\n",
    "values = [490, 334, 550, 18.72]\n",
    "lux2 = dict(zip(keys, values))\n",
    "lux2"
   ]
  },
  {
   "cell_type": "code",
   "execution_count": 27,
   "metadata": {},
   "outputs": [
    {
     "data": {
      "text/plain": [
       "[('health', 490), ('mana', 334), ('melee', 550), ('armor', 18.72)]"
      ]
     },
     "execution_count": 27,
     "metadata": {},
     "output_type": "execute_result"
    }
   ],
   "source": [
    "list(zip(keys, values))"
   ]
  },
  {
   "cell_type": "code",
   "execution_count": 28,
   "metadata": {},
   "outputs": [
    {
     "data": {
      "text/plain": [
       "{'health': 490, 'mana': 334, 'melee': 550, 'armor': 18.72, 'ring': 3}"
      ]
     },
     "execution_count": 28,
     "metadata": {},
     "output_type": "execute_result"
    }
   ],
   "source": [
    "lux['ring'] = 3\n",
    "lux"
   ]
  },
  {
   "cell_type": "markdown",
   "metadata": {},
   "source": [
    "#### in 연산자"
   ]
  },
  {
   "cell_type": "code",
   "execution_count": 29,
   "metadata": {},
   "outputs": [
    {
     "data": {
      "text/plain": [
       "True"
      ]
     },
     "execution_count": 29,
     "metadata": {},
     "output_type": "execute_result"
    }
   ],
   "source": [
    "'health' in lux # 'health'키가 있는지 여부"
   ]
  },
  {
   "cell_type": "code",
   "execution_count": 30,
   "metadata": {},
   "outputs": [],
   "source": [
    "# key의 갯수"
   ]
  },
  {
   "cell_type": "code",
   "execution_count": 31,
   "metadata": {},
   "outputs": [
    {
     "data": {
      "text/plain": [
       "5"
      ]
     },
     "execution_count": 31,
     "metadata": {},
     "output_type": "execute_result"
    }
   ],
   "source": [
    "len(lux)"
   ]
  },
  {
   "cell_type": "code",
   "execution_count": null,
   "metadata": {},
   "outputs": [],
   "source": [
    "ㅎㄷㄴㄴㄴ"
   ]
  }
 ],
 "metadata": {
  "interpreter": {
   "hash": "e58abd733f8948880f953c9706d1a44af0cd549fe01338fbec1a88f5685c9a8f"
  },
  "kernelspec": {
   "display_name": "Python 3.8.8 64-bit ('base': conda)",
   "language": "python",
   "name": "python3"
  },
  "language_info": {
   "codemirror_mode": {
    "name": "ipython",
    "version": 3
   },
   "file_extension": ".py",
   "mimetype": "text/x-python",
   "name": "python",
   "nbconvert_exporter": "python",
   "pygments_lexer": "ipython3",
   "version": "3.8.9"
  },
  "orig_nbformat": 4
 },
 "nbformat": 4,
 "nbformat_minor": 2
}
