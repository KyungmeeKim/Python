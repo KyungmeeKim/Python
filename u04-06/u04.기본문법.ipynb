{
 "cells": [
  {
   "cell_type": "markdown",
   "metadata": {},
   "source": [
    "# unit 4. 기본 문법"
   ]
  },
  {
   "cell_type": "code",
   "execution_count": 2,
   "metadata": {},
   "outputs": [
    {
     "name": "stdout",
     "output_type": "stream",
     "text": [
      "Hello World!\n",
      "안녕하세요\n"
     ]
    }
   ],
   "source": [
    "print('Hello World!') ; print ('안녕하세요')"
   ]
  },
  {
   "cell_type": "code",
   "execution_count": 3,
   "metadata": {},
   "outputs": [
    {
     "name": "stdout",
     "output_type": "stream",
     "text": [
      "This is comment.\n"
     ]
    }
   ],
   "source": [
    "# 한줄 주석 (comment)\n",
    "print('This is comment.')"
   ]
  },
  {
   "cell_type": "code",
   "execution_count": 10,
   "metadata": {},
   "outputs": [
    {
     "name": "stdout",
     "output_type": "stream",
     "text": [
      "안녕하세요\n"
     ]
    }
   ],
   "source": [
    "# 블록 주석 : ''' ''' , \"\"\", \"\"\" (블록 후 Alt+Shift+A)\n",
    "## 멀티주석만 놓고 출력하면 출력되긴 하지만, 프로그램 실행에는 영향을 주지 않음\n",
    "''' print('Hello World!') \n",
    "print ('안녕하세요') '''\n",
    "print ('안녕하세요')"
   ]
  },
  {
   "cell_type": "code",
   "execution_count": 7,
   "metadata": {},
   "outputs": [],
   "source": [
    "# 앞에 변수가 있을 경우, ''' '''은 여러줄의 문자열 데이터를 가리킴\n",
    "a= '''안녕!\n",
    "영희야'''"
   ]
  },
  {
   "cell_type": "code",
   "execution_count": 12,
   "metadata": {},
   "outputs": [
    {
     "name": "stdout",
     "output_type": "stream",
     "text": [
      "a는 10이 아닙니다.\n"
     ]
    }
   ],
   "source": [
    "# 들여쓰기(Indentation)\n",
    "if a ==1:\n",
    "    print('a는 10입니다.')\n",
    "else:\n",
    "    print('a는 10이 아닙니다.')"
   ]
  },
  {
   "cell_type": "code",
   "execution_count": 17,
   "metadata": {},
   "outputs": [
    {
     "name": "stdout",
     "output_type": "stream",
     "text": [
      "a는 10이 아닙니다.\n",
      "ndentation에 따라 출력되기도 합니다.\n"
     ]
    }
   ],
   "source": [
    "# 들여쓰기(Indentation) : tab , 취소 shift+tab\n",
    "## 들여쓰기는 어떤 수식이 코드에 포함되는지 구분해주는 역할. 파이썬은 들여쓰기 없으면 수식 오류남\n",
    "if a ==1:\n",
    "    print('a는 10입니다.')\n",
    "else:\n",
    "    print('a는 10이 아닙니다.')\n",
    "    print('ndentation에 따라 출력되기도 합니다.')"
   ]
  }
 ],
 "metadata": {
  "interpreter": {
   "hash": "e58abd733f8948880f953c9706d1a44af0cd549fe01338fbec1a88f5685c9a8f"
  },
  "kernelspec": {
   "display_name": "Python 3.8.8 64-bit ('base': conda)",
   "language": "python",
   "name": "python3"
  },
  "language_info": {
   "codemirror_mode": {
    "name": "ipython",
    "version": 3
   },
   "file_extension": ".py",
   "mimetype": "text/x-python",
   "name": "python",
   "nbconvert_exporter": "python",
   "pygments_lexer": "ipython3",
   "version": "3.8.8"
  },
  "orig_nbformat": 4
 },
 "nbformat": 4,
 "nbformat_minor": 2
}
