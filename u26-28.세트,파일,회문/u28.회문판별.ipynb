{
 "cells": [
  {
   "cell_type": "markdown",
   "metadata": {},
   "source": [
    "# Unit 28. 회문 판별"
   ]
  },
  {
   "cell_type": "code",
   "execution_count": 2,
   "metadata": {},
   "outputs": [
    {
     "name": "stdout",
     "output_type": "stream",
     "text": [
      "True\n"
     ]
    }
   ],
   "source": [
    "# 회문(palindrome) : 거꾸로 읽어도 제대로 읽은 것과 같은 단어나 문장 \n",
    "# 반복문\n",
    "words = input('단어를 입력하세요')\n",
    "\n",
    "is_palindrome = True\n",
    "for i in range (len(words)//2):\n",
    "    if words[i] != words[-1 - i]:\n",
    "        is_palindrome = False\n",
    "        break\n",
    "\n",
    "print(is_palindrome)"
   ]
  },
  {
   "cell_type": "code",
   "execution_count": 4,
   "metadata": {},
   "outputs": [
    {
     "name": "stdout",
     "output_type": "stream",
     "text": [
      "True\n"
     ]
    }
   ],
   "source": [
    "# 슬라이스\n",
    "words = input('단어를 입력하세요')\n",
    "\n",
    "print(words == words[::-1])"
   ]
  },
  {
   "cell_type": "code",
   "execution_count": 5,
   "metadata": {},
   "outputs": [
    {
     "data": {
      "text/plain": [
       "True"
      ]
     },
     "execution_count": 5,
     "metadata": {},
     "output_type": "execute_result"
    }
   ],
   "source": [
    "# 리스트와 reversed\n",
    "word = input('단어를 입력하세요')\n",
    "list(word) == list(reversed(word))"
   ]
  },
  {
   "cell_type": "code",
   "execution_count": 6,
   "metadata": {},
   "outputs": [
    {
     "data": {
      "text/plain": [
       "True"
      ]
     },
     "execution_count": 6,
     "metadata": {},
     "output_type": "execute_result"
    }
   ],
   "source": [
    "# join 메서드와 reversed\n",
    "word == input('단어를 입력하세요')\n",
    "word == ''.join(reversed(word))"
   ]
  },
  {
   "cell_type": "markdown",
   "metadata": {},
   "source": [
    "## N-gram"
   ]
  },
  {
   "cell_type": "code",
   "execution_count": 9,
   "metadata": {},
   "outputs": [
    {
     "name": "stdout",
     "output_type": "stream",
     "text": [
      "He\n",
      "el\n",
      "ll\n",
      "lo\n"
     ]
    }
   ],
   "source": [
    "# 문자열에서 N개의 연속된 요소를 추출\n",
    "\n",
    "text = 'Hello'\n",
    "\n",
    "for i in range(len(text) - 1):\n",
    "    print(text[i], text[i + 1], sep='')"
   ]
  },
  {
   "cell_type": "code",
   "execution_count": 10,
   "metadata": {},
   "outputs": [
    {
     "name": "stdout",
     "output_type": "stream",
     "text": [
      "this is\n",
      "is python\n",
      "python script\n"
     ]
    }
   ],
   "source": [
    "text = 'this is python script'\n",
    "words = text.split()            # 공백을 기준으로 문자열을 분리하여 리스트로 만듦\n",
    "\n",
    "for i in range(len(words) - 1): # 리스트의 마지막에서 요소 한 개 앞까지만 반복\n",
    "    print(words[i], words[i + 1])  # 현재 문자열과 그 다음 문자열 출력"
   ]
  },
  {
   "cell_type": "code",
   "execution_count": 11,
   "metadata": {},
   "outputs": [
    {
     "name": "stdout",
     "output_type": "stream",
     "text": [
      "h e\n",
      "e l\n",
      "l l\n",
      "l o\n"
     ]
    }
   ],
   "source": [
    "# zip으로 2-gram 만들기\n",
    "\n",
    "text = 'hello'\n",
    "\n",
    "two_gram = zip(text, text[1:])\n",
    "for i in two_gram:\n",
    "    print(i[0], i[1], sep=' ')"
   ]
  },
  {
   "cell_type": "code",
   "execution_count": 12,
   "metadata": {},
   "outputs": [
    {
     "data": {
      "text/plain": [
       "['hello', 'ello', 'llo']"
      ]
     },
     "execution_count": 12,
     "metadata": {},
     "output_type": "execute_result"
    }
   ],
   "source": [
    "# zip과 리스트 표현식 \n",
    "text = 'hello'\n",
    "[text[i:] for i in range(3)]\n"
   ]
  },
  {
   "cell_type": "code",
   "execution_count": 13,
   "metadata": {},
   "outputs": [
    {
     "data": {
      "text/plain": [
       "[('h', 'e', 'l'), ('e', 'l', 'l'), ('l', 'l', 'o')]"
      ]
     },
     "execution_count": 13,
     "metadata": {},
     "output_type": "execute_result"
    }
   ],
   "source": [
    "list(zip(*[text[i:] for i in range(3)]))"
   ]
  },
  {
   "cell_type": "code",
   "execution_count": null,
   "metadata": {},
   "outputs": [],
   "source": []
  }
 ],
 "metadata": {
  "interpreter": {
   "hash": "aee8b7b246df8f9039afb4144a1f6fd8d2ca17a180786b69acc140d282b71a49"
  },
  "kernelspec": {
   "display_name": "Python 3.10.1 64-bit",
   "language": "python",
   "name": "python3"
  },
  "language_info": {
   "codemirror_mode": {
    "name": "ipython",
    "version": 3
   },
   "file_extension": ".py",
   "mimetype": "text/x-python",
   "name": "python",
   "nbconvert_exporter": "python",
   "pygments_lexer": "ipython3",
   "version": "3.10.1"
  },
  "orig_nbformat": 4
 },
 "nbformat": 4,
 "nbformat_minor": 2
}
