{
 "cells": [
  {
   "cell_type": "markdown",
   "metadata": {},
   "source": [
    "# unit 17 while"
   ]
  },
  {
   "cell_type": "code",
   "execution_count": 6,
   "metadata": {},
   "outputs": [
    {
     "name": "stdout",
     "output_type": "stream",
     "text": [
      "Hello, world! 0\n",
      "Hello, world! 1\n",
      "Hello, world! 2\n"
     ]
    }
   ],
   "source": [
    "i = 0   # 초기식\n",
    "\n",
    "while i < 3:      # while 조건식\n",
    "    print('Hello, world!',i)\n",
    "    i += 1      # 변화식 : i 를 1씩 증가시킴 "
   ]
  },
  {
   "cell_type": "code",
   "execution_count": 7,
   "metadata": {},
   "outputs": [
    {
     "name": "stdout",
     "output_type": "stream",
     "text": [
      "Hello, World! 3\n",
      "Hello, World! 2\n",
      "Hello, World! 1\n"
     ]
    }
   ],
   "source": [
    "# 초기 값을 감소시기키\n",
    "\n",
    "i = 3\n",
    "while i > 0:\n",
    "    print('Hello, World!', i)\n",
    "    i -= 1      # 만약 i가 0이 되면 False 이기 때문에 반복을 중지시킴"
   ]
  },
  {
   "cell_type": "code",
   "execution_count": 2,
   "metadata": {},
   "outputs": [],
   "source": [
    "# 입력한 횟수대로 반복하기\n",
    "\n",
    "count = int(input('반복할 횟수를 입력하세요 : '))\n",
    "\n",
    "i = 0\n",
    "while i < count:\n",
    "    print('Hello, world!', i)\n",
    "    i += 1\n"
   ]
  },
  {
   "cell_type": "markdown",
   "metadata": {},
   "source": [
    "### 반복 횟수가 정해지지 않은 경우"
   ]
  },
  {
   "cell_type": "code",
   "execution_count": 11,
   "metadata": {},
   "outputs": [
    {
     "data": {
      "text/plain": [
       "0.6318218278530038"
      ]
     },
     "execution_count": 11,
     "metadata": {},
     "output_type": "execute_result"
    }
   ],
   "source": [
    "# 난수를 생성\n",
    "import random   # random 모듈을 불러옴\n",
    "random.random()     # random 함수를 호출함  "
   ]
  },
  {
   "cell_type": "code",
   "execution_count": 28,
   "metadata": {},
   "outputs": [
    {
     "data": {
      "text/plain": [
       "6"
      ]
     },
     "execution_count": 28,
     "metadata": {},
     "output_type": "execute_result"
    }
   ],
   "source": [
    "# 정수 랜덤 생성\n",
    "random.randint(1,6)     # 시작 범위와 끝범위 사이의 난수 생성"
   ]
  },
  {
   "cell_type": "code",
   "execution_count": 32,
   "metadata": {},
   "outputs": [
    {
     "name": "stdout",
     "output_type": "stream",
     "text": [
      "1\n",
      "2\n",
      "3\n"
     ]
    }
   ],
   "source": [
    "# 1과 6까지의 난수 생성 뒤 3이 나오면 반복을 끝냄\n",
    "import random   #random 모듈을 가져옴\n",
    "\n",
    "i = 0\n",
    "while i != 3:   # i가 3이 아닐 때 계속 반복\n",
    "    i = random.randint(1,6)     # randit 을 사용하여 1과 6 사이의 난수를 생성한 후 i 에 저장\n",
    "    print(i)"
   ]
  },
  {
   "cell_type": "code",
   "execution_count": 35,
   "metadata": {},
   "outputs": [
    {
     "data": {
      "text/plain": [
       "4"
      ]
     },
     "execution_count": 35,
     "metadata": {},
     "output_type": "execute_result"
    }
   ],
   "source": [
    "# 시퀀스 객체에서 요소를 무작위로 선택\n",
    "# 튜플, 문자열 모두 가능\n",
    "dice = [1, 2, 3, 4, 5, 6]\n",
    "random.choice(dice)"
   ]
  },
  {
   "cell_type": "markdown",
   "metadata": {},
   "source": [
    "# while 무한 루프"
   ]
  },
  {
   "cell_type": "code",
   "execution_count": null,
   "metadata": {},
   "outputs": [],
   "source": [
    "# 조건식에 True를 지정할 경우 무한루프 생성\n",
    "# True 값으로 취급하는 값 : True, 0이 아닌 숫자, 내용이 있는 문자열"
   ]
  }
 ],
 "metadata": {
  "interpreter": {
   "hash": "31f2aee4e71d21fbe5cf8b01ff0e069b9275f58929596ceb00d14d90e3e16cd6"
  },
  "kernelspec": {
   "display_name": "Python 3.8.9 64-bit",
   "language": "python",
   "name": "python3"
  },
  "language_info": {
   "codemirror_mode": {
    "name": "ipython",
    "version": 3
   },
   "file_extension": ".py",
   "mimetype": "text/x-python",
   "name": "python",
   "nbconvert_exporter": "python",
   "pygments_lexer": "ipython3",
   "version": "3.8.9"
  },
  "orig_nbformat": 4
 },
 "nbformat": 4,
 "nbformat_minor": 2
}
